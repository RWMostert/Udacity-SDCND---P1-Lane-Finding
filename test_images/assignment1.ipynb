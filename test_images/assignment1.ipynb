{
 "cells": [
  {
   "cell_type": "markdown",
   "metadata": {},
   "source": [
    "#CS741: Assignment 1: Introduction to inference in Graphical Models\n",
    "## Dr. Hennie de Villiers - Computer Science - Stellenbosch University\n",
    "\n",
    "## Name: YOUR NAME\n",
    "## Student Number: YOUR STUDENT NUMBER\n"
   ]
  },
  {
   "cell_type": "markdown",
   "metadata": {},
   "source": [
    "Note: Parts of the assignment were adapted from Prof. Johan du Preez at Electronic Engineering."
   ]
  },
  {
   "cell_type": "markdown",
   "metadata": {},
   "source": [
    "## Theano Warmup\n",
    "\n",
    "This assignment is, primarily, about getting you started with Theano for the various machine learning tasks we will be considering. We will also apply the Theano concepts learnt to perform some interesting inference tasks. The first two sections will take you on a small tour of Theano, and implement some of the functions you will need later.\n",
    "\n",
    "The first you have to do, is to get a hold of Theano [over here](http://deeplearning.net/software/theano/install.html).\n",
    "\n",
    "If you need a decent Python distribution, try [Anaconda](http://continuum.io/downloads).\n",
    "\n",
    "You will also need: `graphviz` (a program for visualizing graphs), `pydot` (a Python interface to Graphviz).\n",
    "\n",
    "Once Theano is ready, you should be able to continue with importing Theano, Numpy and Matplotlib as follows:"
   ]
  },
  {
   "cell_type": "code",
   "execution_count": 1,
   "metadata": {
    "collapsed": true
   },
   "outputs": [],
   "source": [
    "import numpy as np\n",
    "import matplotlib\n",
    "from matplotlib import pyplot as plt\n",
    "\n",
    "import theano\n",
    "import theano.tensor as T"
   ]
  },
  {
   "cell_type": "markdown",
   "metadata": {},
   "source": [
    "Happy times, if you didn't get an error :) If you haven't changed any environment variables, Theano is probably going to execute code on the CPU, but this is better for the moment.\n",
    "\n",
    "Okay, the first thing you have to master, it defining simple variables and functions in Theano. In Theano, we built functions by manipulating *symbolic variables*. For example, let's make a new variable $X$."
   ]
  },
  {
   "cell_type": "code",
   "execution_count": 2,
   "metadata": {
    "collapsed": false
   },
   "outputs": [],
   "source": [
    "x = T.scalar(\"X\")"
   ]
  },
  {
   "cell_type": "markdown",
   "metadata": {},
   "source": [
    "Boom. You now have a symbolic scalar value. Feels good doesn't it? \n",
    "\n",
    "Incidently, `T.scalar` produces a symbolic floating point number of type `theano.config.floatX`, which is the preferred floating point number format for a given execution backend. On the CPU, this is usually a 64-bit float, on the GPU it is usually a 32-bit float. It is important to try to use this type in your code, because often Theano will only use the GPU if it your operations are on this kind of data.\n",
    "\n",
    "Performing operations on symbolic operations is extremely simple. "
   ]
  },
  {
   "cell_type": "code",
   "execution_count": 3,
   "metadata": {
    "collapsed": false
   },
   "outputs": [
    {
     "name": "stdout",
     "output_type": "stream",
     "text": [
      "X\n",
      "Elemwise{mul,no_inplace}.0\n"
     ]
    }
   ],
   "source": [
    "print x\n",
    "y = x*x\n",
    "print y"
   ]
  },
  {
   "cell_type": "markdown",
   "metadata": {},
   "source": [
    "You can see above that the first `print` simply displays the name of the symbolic variable. The second `print` is displaying the name of the symbolic expression (which is the name of the top-most operation in the expression, an non-inplace multiplication).\n",
    "\n",
    "We can't really do anything with the symbolic variables until are able to give values to them, and get the results of expressions based on them. We could use the `eval` method of a given expression, which we give a dictionary of mappings between symbolic variables and their values."
   ]
  },
  {
   "cell_type": "code",
   "execution_count": 4,
   "metadata": {
    "collapsed": false
   },
   "outputs": [
    {
     "name": "stdout",
     "output_type": "stream",
     "text": [
      "25.0\n"
     ]
    }
   ],
   "source": [
    "print y.eval({x : 5})"
   ]
  },
  {
   "cell_type": "markdown",
   "metadata": {},
   "source": [
    "Sadly, this\n",
    "\n",
    "`print x.eval({y : 36})`\n",
    "\n",
    "won't work. At least, not yet.\n",
    "\n",
    "We can see how Theano has built up a symbolic expression by using"
   ]
  },
  {
   "cell_type": "code",
   "execution_count": 5,
   "metadata": {
    "collapsed": false
   },
   "outputs": [
    {
     "data": {
      "image/svg+xml": [
       "<svg height=\"218pt\" viewBox=\"0.00 0.00 363.00 218.00\" width=\"363pt\" xmlns=\"http://www.w3.org/2000/svg\" xmlns:xlink=\"http://www.w3.org/1999/xlink\">\n",
       "<g class=\"graph\" id=\"graph0\" transform=\"scale(1 1) rotate(0) translate(4 214)\">\n",
       "<title>G</title>\n",
       "<polygon fill=\"white\" points=\"-4,4 -4,-214 359,-214 359,4 -4,4\" stroke=\"none\"/>\n",
       "<!-- Elemwise{mul,no_inplace} -->\n",
       "<g class=\"node\" id=\"node1\"><title>Elemwise{mul,no_inplace}</title>\n",
       "<ellipse cx=\"112\" cy=\"-105\" fill=\"#ffaabb\" rx=\"111.581\" ry=\"18\" stroke=\"black\"/>\n",
       "<text font-family=\"Times,serif\" font-size=\"14.00\" text-anchor=\"middle\" x=\"112\" y=\"-101.3\">Elemwise{mul,no_inplace}</text>\n",
       "</g>\n",
       "<!-- TensorType(float64, scalar) -->\n",
       "<g class=\"node\" id=\"node3\"><title>TensorType(float64, scalar)</title>\n",
       "<polygon fill=\"blue\" points=\"198,-36 26,-36 26,-0 198,-0 198,-36\" stroke=\"black\"/>\n",
       "<text font-family=\"Times,serif\" font-size=\"14.00\" text-anchor=\"middle\" x=\"112\" y=\"-14.3\">TensorType(float64, scalar)</text>\n",
       "</g>\n",
       "<!-- Elemwise{mul,no_inplace}&#45;&gt;TensorType(float64, scalar) -->\n",
       "<g class=\"edge\" id=\"edge3\"><title>Elemwise{mul,no_inplace}-&gt;TensorType(float64, scalar)</title>\n",
       "<path d=\"M112,-86.799C112,-75.1626 112,-59.5479 112,-46.2368\" fill=\"none\" stroke=\"black\"/>\n",
       "<polygon fill=\"black\" points=\"115.5,-46.1754 112,-36.1754 108.5,-46.1755 115.5,-46.1754\" stroke=\"black\"/>\n",
       "<text font-family=\"Times,serif\" font-size=\"14.00\" text-anchor=\"middle\" x=\"190\" y=\"-57.8\">TensorType(float64, scalar)</text>\n",
       "</g>\n",
       "<!-- name=X TensorType(float64, scalar) -->\n",
       "<g class=\"node\" id=\"node2\"><title>name=X TensorType(float64, scalar)</title>\n",
       "<polygon fill=\"green\" points=\"224,-210 1.42109e-14,-210 1.42109e-14,-174 224,-174 224,-210\" stroke=\"black\"/>\n",
       "<text font-family=\"Times,serif\" font-size=\"14.00\" text-anchor=\"middle\" x=\"112\" y=\"-188.3\">name=X TensorType(float64, scalar)</text>\n",
       "</g>\n",
       "<!-- name=X TensorType(float64, scalar)&#45;&gt;Elemwise{mul,no_inplace} -->\n",
       "<g class=\"edge\" id=\"edge1\"><title>name=X TensorType(float64, scalar)-&gt;Elemwise{mul,no_inplace}</title>\n",
       "<path d=\"M37.902,-173.913C30.1126,-169.296 23.1665,-163.437 18,-156 7.94138,-141.522 18.4248,-130.891 35.5402,-123.251\" fill=\"none\" stroke=\"black\"/>\n",
       "<polygon fill=\"black\" points=\"36.9951,-126.44 45.0213,-119.524 34.434,-119.926 36.9951,-126.44\" stroke=\"black\"/>\n",
       "<text font-family=\"Times,serif\" font-size=\"14.00\" text-anchor=\"middle\" x=\"101.5\" y=\"-144.8\">0 TensorType(float64, scalar)</text>\n",
       "</g>\n",
       "<!-- name=X TensorType(float64, scalar)&#45;&gt;Elemwise{mul,no_inplace} -->\n",
       "<g class=\"edge\" id=\"edge2\"><title>name=X TensorType(float64, scalar)-&gt;Elemwise{mul,no_inplace}</title>\n",
       "<path d=\"M166.23,-173.869C173.682,-169.23 180.357,-163.374 185,-156 192.72,-143.737 184.838,-133.722 171.804,-125.963\" fill=\"none\" stroke=\"black\"/>\n",
       "<polygon fill=\"black\" points=\"173.095,-122.69 162.607,-121.19 169.87,-128.903 173.095,-122.69\" stroke=\"black\"/>\n",
       "<text font-family=\"Times,serif\" font-size=\"14.00\" text-anchor=\"middle\" x=\"271.5\" y=\"-144.8\">1 TensorType(float64, scalar)</text>\n",
       "</g>\n",
       "</g>\n",
       "</svg>"
      ],
      "text/plain": [
       "<IPython.core.display.SVG object>"
      ]
     },
     "execution_count": 5,
     "metadata": {},
     "output_type": "execute_result"
    }
   ],
   "source": [
    "import pydot\n",
    "from IPython.display import SVG\n",
    "SVG(theano.printing.pydotprint(y, format=\"svg\", return_image=True))\n"
   ]
  },
  {
   "cell_type": "markdown",
   "metadata": {},
   "source": [
    "You can find out more about how Theano represents expressions [here](http://deeplearning.net/software/theano/tutorial/symbolic_graphs.html). You should also make sure to familiarise yourself with all the [debugging functionality](http://deeplearning.net/software/theano/tutorial/printing_drawing.html) that Theano provides, you might need it :)"
   ]
  },
  {
   "cell_type": "markdown",
   "metadata": {},
   "source": [
    "We can make a more permanent Theano function to perform this operation using"
   ]
  },
  {
   "cell_type": "code",
   "execution_count": 6,
   "metadata": {
    "collapsed": false
   },
   "outputs": [
    {
     "name": "stdout",
     "output_type": "stream",
     "text": [
      "25.0\n"
     ]
    }
   ],
   "source": [
    "my_func = theano.function([x], y)\n",
    "\n",
    "print my_func(5)"
   ]
  },
  {
   "cell_type": "markdown",
   "metadata": {
    "collapsed": true
   },
   "source": [
    "## Implementing CPD inference in Theano\n",
    "We are now going to learn more about multidimensional arrays (tensors) in Theano by implementing some basic inference tasks. Consider representing the conditional probability $P(A|B,E)$ from the \"Alarm\" problem from Chapter 3. The Numpy array representing this is given by:"
   ]
  },
  {
   "cell_type": "code",
   "execution_count": 7,
   "metadata": {
    "collapsed": false
   },
   "outputs": [],
   "source": [
    "p_a_given_be = np.zeros((2,2,2),dtype=theano.config.floatX)\n",
    "p_a_given_be[1,0,0] = 0.0001 # P(A=1|B=0,E=0)\n",
    "p_a_given_be[1,0,1] = 0.99 # P(A=1|B=0,E=0)\n",
    "p_a_given_be[1,1,0] = 0.99 # P(A=1|B=0,E=0)\n",
    "p_a_given_be[1,1,1] = 0.9999 # P(A=1|B=0,E=0)\n",
    "p_a_given_be[0,:,:] = 1 - p_a_given_be[1,:,:]"
   ]
  },
  {
   "cell_type": "markdown",
   "metadata": {},
   "source": [
    "Similarly, $P(R|E)$, $P(E)$ and $P(B)$ are given by"
   ]
  },
  {
   "cell_type": "code",
   "execution_count": 8,
   "metadata": {
    "collapsed": true
   },
   "outputs": [],
   "source": [
    "p_r_given_e = np.zeros((2,2),dtype=theano.config.floatX)\n",
    "p_r_given_e[1,0] = 0.0\n",
    "p_r_given_e[1,1] = 1.0\n",
    "p_r_given_e[0,:] = 1 - p_r_given_e[1,:]\n",
    "\n",
    "p_e = np.zeros((2,),dtype=theano.config.floatX)\n",
    "p_e[1] = 0.000001\n",
    "p_e[0] = 1 - p_e[1]\n",
    "\n",
    "p_b = np.zeros((2,),dtype=theano.config.floatX)\n",
    "p_b[1] = 0.01\n",
    "p_b[0] = 1 - p_b[1]"
   ]
  },
  {
   "cell_type": "markdown",
   "metadata": {},
   "source": [
    "We can make Theano aware of these factors by creating shared variables"
   ]
  },
  {
   "cell_type": "code",
   "execution_count": 9,
   "metadata": {
    "collapsed": false
   },
   "outputs": [],
   "source": [
    "alarm_factor = theano.shared(p_a_given_be)\n",
    "radio_factor = theano.shared(p_r_given_e)\n",
    "burglar_factor = theano.shared(p_b)\n",
    "earthquake_factor = theano.shared(p_e)"
   ]
  },
  {
   "cell_type": "markdown",
   "metadata": {},
   "source": [
    "Now, we can define state variables for each of the alarm problem's variables. The are 64-bit integer scalars, so we use the `T.lscalar` constructor (`l` for `long`)"
   ]
  },
  {
   "cell_type": "code",
   "execution_count": 10,
   "metadata": {
    "collapsed": true
   },
   "outputs": [],
   "source": [
    "alarm = T.lscalar(\"A\")\n",
    "burglar = T.lscalar(\"B\")\n",
    "earthquake = T.lscalar(\"E\")\n",
    "radio = T.lscalar(\"R\")"
   ]
  },
  {
   "cell_type": "markdown",
   "metadata": {},
   "source": [
    "and we can define the joint probability distribution as"
   ]
  },
  {
   "cell_type": "code",
   "execution_count": 11,
   "metadata": {
    "collapsed": false
   },
   "outputs": [],
   "source": [
    "joint_alarm = earthquake_factor[earthquake] * burglar_factor[burglar] * radio_factor[radio, earthquake] * alarm_factor[alarm, burglar, earthquake]"
   ]
  },
  {
   "cell_type": "markdown",
   "metadata": {},
   "source": [
    "Now we can ask the joint distribution of the alarm problem to evaluate for a given assignment of variables"
   ]
  },
  {
   "cell_type": "code",
   "execution_count": 12,
   "metadata": {
    "collapsed": false
   },
   "outputs": [
    {
     "name": "stdout",
     "output_type": "stream",
     "text": [
      "0.0098999901\n",
      "9.999e-09\n",
      "9.801e-07\n"
     ]
    }
   ],
   "source": [
    "print joint_alarm.eval({alarm:1,burglar:1,earthquake:0,radio:0})\n",
    "print joint_alarm.eval({alarm:1,burglar:1,earthquake:1,radio:1})\n",
    "print joint_alarm.eval({alarm:1,burglar:0,earthquake:1,radio:1})"
   ]
  },
  {
   "cell_type": "markdown",
   "metadata": {},
   "source": [
    "A more convenient way to evaluate the joint can be defined"
   ]
  },
  {
   "cell_type": "code",
   "execution_count": 13,
   "metadata": {
    "collapsed": false
   },
   "outputs": [
    {
     "name": "stdout",
     "output_type": "stream",
     "text": [
      "0.0098999901\n"
     ]
    }
   ],
   "source": [
    "joint_func = theano.function([alarm,burglar,earthquake,radio],joint_alarm)\n",
    "print joint_func(1,1,0,0)"
   ]
  },
  {
   "cell_type": "markdown",
   "metadata": {},
   "source": [
    "We can have a look at what the computational graph looks like"
   ]
  },
  {
   "cell_type": "code",
   "execution_count": 14,
   "metadata": {
    "collapsed": false
   },
   "outputs": [
    {
     "data": {
      "image/svg+xml": [
       "<svg height=\"392pt\" viewBox=\"0.00 0.00 1614.50 392.00\" width=\"1615pt\" xmlns=\"http://www.w3.org/2000/svg\" xmlns:xlink=\"http://www.w3.org/1999/xlink\">\n",
       "<g class=\"graph\" id=\"graph0\" transform=\"scale(1 1) rotate(0) translate(4 388)\">\n",
       "<title>G</title>\n",
       "<polygon fill=\"white\" points=\"-4,4 -4,-388 1610.5,-388 1610.5,4 -4,4\" stroke=\"none\"/>\n",
       "<!-- ScalarFromTensor -->\n",
       "<g class=\"node\" id=\"node1\"><title>ScalarFromTensor</title>\n",
       "<ellipse cx=\"1321.5\" cy=\"-279\" fill=\"none\" rx=\"78.7863\" ry=\"18\" stroke=\"black\"/>\n",
       "<text font-family=\"Times,serif\" font-size=\"14.00\" text-anchor=\"middle\" x=\"1321.5\" y=\"-275.3\">ScalarFromTensor</text>\n",
       "</g>\n",
       "<!-- Subtensor{int64} -->\n",
       "<g class=\"node\" id=\"node9\"><title>Subtensor{int64}</title>\n",
       "<ellipse cx=\"1349.5\" cy=\"-192\" fill=\"#ffaaff\" rx=\"74.9875\" ry=\"18\" stroke=\"black\"/>\n",
       "<text font-family=\"Times,serif\" font-size=\"14.00\" text-anchor=\"middle\" x=\"1349.5\" y=\"-188.3\">Subtensor{int64}</text>\n",
       "</g>\n",
       "<!-- ScalarFromTensor&#45;&gt;Subtensor{int64} -->\n",
       "<g class=\"edge\" id=\"edge6\"><title>ScalarFromTensor-&gt;Subtensor{int64}</title>\n",
       "<path d=\"M1327.17,-260.799C1331.04,-249.047 1336.25,-233.238 1340.66,-219.842\" fill=\"none\" stroke=\"black\"/>\n",
       "<polygon fill=\"black\" points=\"1344.04,-220.768 1343.84,-210.175 1337.39,-218.578 1344.04,-220.768\" stroke=\"black\"/>\n",
       "<text font-family=\"Times,serif\" font-size=\"14.00\" text-anchor=\"middle\" x=\"1357.5\" y=\"-231.8\">1 int64</text>\n",
       "</g>\n",
       "<!-- Subtensor{int64, int64, int64} -->\n",
       "<g class=\"node\" id=\"node15\"><title>Subtensor{int64, int64, int64}</title>\n",
       "<ellipse cx=\"824.5\" cy=\"-192\" fill=\"#ffaaff\" rx=\"120.779\" ry=\"18\" stroke=\"black\"/>\n",
       "<text font-family=\"Times,serif\" font-size=\"14.00\" text-anchor=\"middle\" x=\"824.5\" y=\"-188.3\">Subtensor{int64, int64, int64}</text>\n",
       "</g>\n",
       "<!-- ScalarFromTensor&#45;&gt;Subtensor{int64, int64, int64} -->\n",
       "<g class=\"edge\" id=\"edge14\"><title>ScalarFromTensor-&gt;Subtensor{int64, int64, int64}</title>\n",
       "<path d=\"M1307.5,-260.81C1297,-249.287 1281.55,-234.988 1264.5,-228 1200.44,-201.749 1022.42,-216.527 953.5,-210 942.281,-208.938 930.536,-207.644 918.896,-206.249\" fill=\"none\" stroke=\"black\"/>\n",
       "<polygon fill=\"black\" points=\"919.061,-202.743 908.709,-205 918.209,-209.691 919.061,-202.743\" stroke=\"black\"/>\n",
       "<text font-family=\"Times,serif\" font-size=\"14.00\" text-anchor=\"middle\" x=\"1307.5\" y=\"-231.8\">2 int64</text>\n",
       "</g>\n",
       "<!-- name=B TensorType(int64, scalar) -->\n",
       "<g class=\"node\" id=\"node2\"><title>name=B TensorType(int64, scalar)</title>\n",
       "<polygon fill=\"green\" points=\"1428,-384 1215,-384 1215,-348 1428,-348 1428,-384\" stroke=\"black\"/>\n",
       "<text font-family=\"Times,serif\" font-size=\"14.00\" text-anchor=\"middle\" x=\"1321.5\" y=\"-362.3\">name=B TensorType(int64, scalar)</text>\n",
       "</g>\n",
       "<!-- name=B TensorType(int64, scalar)&#45;&gt;ScalarFromTensor -->\n",
       "<g class=\"edge\" id=\"edge1\"><title>name=B TensorType(int64, scalar)-&gt;ScalarFromTensor</title>\n",
       "<path d=\"M1321.5,-347.799C1321.5,-336.163 1321.5,-320.548 1321.5,-307.237\" fill=\"none\" stroke=\"black\"/>\n",
       "<polygon fill=\"black\" points=\"1325,-307.175 1321.5,-297.175 1318,-307.175 1325,-307.175\" stroke=\"black\"/>\n",
       "<text font-family=\"Times,serif\" font-size=\"14.00\" text-anchor=\"middle\" x=\"1394.5\" y=\"-318.8\">TensorType(int64, scalar)</text>\n",
       "</g>\n",
       "<!-- ScalarFromTensor id=1 -->\n",
       "<g class=\"node\" id=\"node3\"><title>ScalarFromTensor id=1</title>\n",
       "<ellipse cx=\"898.5\" cy=\"-279\" fill=\"none\" rx=\"97.4827\" ry=\"18\" stroke=\"black\"/>\n",
       "<text font-family=\"Times,serif\" font-size=\"14.00\" text-anchor=\"middle\" x=\"898.5\" y=\"-275.3\">ScalarFromTensor id=1</text>\n",
       "</g>\n",
       "<!-- Subtensor{int64} id=5 -->\n",
       "<g class=\"node\" id=\"node11\"><title>Subtensor{int64} id=5</title>\n",
       "<ellipse cx=\"1056.5\" cy=\"-192\" fill=\"#ffaaff\" rx=\"93.6835\" ry=\"18\" stroke=\"black\"/>\n",
       "<text font-family=\"Times,serif\" font-size=\"14.00\" text-anchor=\"middle\" x=\"1056.5\" y=\"-188.3\">Subtensor{int64} id=5</text>\n",
       "</g>\n",
       "<!-- ScalarFromTensor id=1&#45;&gt;Subtensor{int64} id=5 -->\n",
       "<g class=\"edge\" id=\"edge8\"><title>ScalarFromTensor id=1-&gt;Subtensor{int64} id=5</title>\n",
       "<path d=\"M931.447,-261.975C943.209,-256.136 956.513,-249.397 968.5,-243 985.477,-233.941 1004.03,-223.483 1019.71,-214.481\" fill=\"none\" stroke=\"black\"/>\n",
       "<polygon fill=\"black\" points=\"1021.66,-217.397 1028.57,-209.37 1018.16,-211.333 1021.66,-217.397\" stroke=\"black\"/>\n",
       "<text font-family=\"Times,serif\" font-size=\"14.00\" text-anchor=\"middle\" x=\"1015.5\" y=\"-231.8\">1 int64</text>\n",
       "</g>\n",
       "<!-- Subtensor{int64, int64} -->\n",
       "<g class=\"node\" id=\"node13\"><title>Subtensor{int64, int64}</title>\n",
       "<ellipse cx=\"467.5\" cy=\"-192\" fill=\"#ffaaff\" rx=\"98.2828\" ry=\"18\" stroke=\"black\"/>\n",
       "<text font-family=\"Times,serif\" font-size=\"14.00\" text-anchor=\"middle\" x=\"467.5\" y=\"-188.3\">Subtensor{int64, int64}</text>\n",
       "</g>\n",
       "<!-- ScalarFromTensor id=1&#45;&gt;Subtensor{int64, int64} -->\n",
       "<g class=\"edge\" id=\"edge11\"><title>ScalarFromTensor id=1-&gt;Subtensor{int64, int64}</title>\n",
       "<path d=\"M889.431,-261.033C882.351,-249.616 871.391,-235.351 857.5,-228 851.075,-224.6 679.051,-210.112 565.639,-200.875\" fill=\"none\" stroke=\"black\"/>\n",
       "<polygon fill=\"black\" points=\"565.787,-197.376 555.537,-200.054 565.22,-204.353 565.787,-197.376\" stroke=\"black\"/>\n",
       "<text font-family=\"Times,serif\" font-size=\"14.00\" text-anchor=\"middle\" x=\"895.5\" y=\"-231.8\">2 int64</text>\n",
       "</g>\n",
       "<!-- ScalarFromTensor id=1&#45;&gt;Subtensor{int64, int64, int64} -->\n",
       "<g class=\"edge\" id=\"edge15\"><title>ScalarFromTensor id=1-&gt;Subtensor{int64, int64, int64}</title>\n",
       "<path d=\"M914.379,-260.927C921.785,-250.837 927.569,-238.101 920.5,-228 915.923,-221.46 909.989,-216.137 903.316,-211.806\" fill=\"none\" stroke=\"black\"/>\n",
       "<polygon fill=\"black\" points=\"904.943,-208.706 894.515,-206.834 901.5,-214.8 904.943,-208.706\" stroke=\"black\"/>\n",
       "<text font-family=\"Times,serif\" font-size=\"14.00\" text-anchor=\"middle\" x=\"944.5\" y=\"-231.8\">3 int64</text>\n",
       "</g>\n",
       "<!-- name=E TensorType(int64, scalar) -->\n",
       "<g class=\"node\" id=\"node4\"><title>name=E TensorType(int64, scalar)</title>\n",
       "<polygon fill=\"green\" points=\"1004.5,-384 792.5,-384 792.5,-348 1004.5,-348 1004.5,-384\" stroke=\"black\"/>\n",
       "<text font-family=\"Times,serif\" font-size=\"14.00\" text-anchor=\"middle\" x=\"898.5\" y=\"-362.3\">name=E TensorType(int64, scalar)</text>\n",
       "</g>\n",
       "<!-- name=E TensorType(int64, scalar)&#45;&gt;ScalarFromTensor id=1 -->\n",
       "<g class=\"edge\" id=\"edge2\"><title>name=E TensorType(int64, scalar)-&gt;ScalarFromTensor id=1</title>\n",
       "<path d=\"M898.5,-347.799C898.5,-336.163 898.5,-320.548 898.5,-307.237\" fill=\"none\" stroke=\"black\"/>\n",
       "<polygon fill=\"black\" points=\"902,-307.175 898.5,-297.175 895,-307.175 902,-307.175\" stroke=\"black\"/>\n",
       "<text font-family=\"Times,serif\" font-size=\"14.00\" text-anchor=\"middle\" x=\"971.5\" y=\"-318.8\">TensorType(int64, scalar)</text>\n",
       "</g>\n",
       "<!-- ScalarFromTensor id=2 -->\n",
       "<g class=\"node\" id=\"node5\"><title>ScalarFromTensor id=2</title>\n",
       "<ellipse cx=\"106.5\" cy=\"-279\" fill=\"none\" rx=\"97.4827\" ry=\"18\" stroke=\"black\"/>\n",
       "<text font-family=\"Times,serif\" font-size=\"14.00\" text-anchor=\"middle\" x=\"106.5\" y=\"-275.3\">ScalarFromTensor id=2</text>\n",
       "</g>\n",
       "<!-- ScalarFromTensor id=2&#45;&gt;Subtensor{int64, int64} -->\n",
       "<g class=\"edge\" id=\"edge10\"><title>ScalarFromTensor id=2-&gt;Subtensor{int64, int64}</title>\n",
       "<path d=\"M164.083,-264.404C206.72,-254.341 266.231,-240.303 318.5,-228 344.988,-221.765 374.127,-214.918 399.558,-208.946\" fill=\"none\" stroke=\"black\"/>\n",
       "<polygon fill=\"black\" points=\"400.539,-212.311 409.474,-206.617 398.939,-205.496 400.539,-212.311\" stroke=\"black\"/>\n",
       "<text font-family=\"Times,serif\" font-size=\"14.00\" text-anchor=\"middle\" x=\"338.5\" y=\"-231.8\">1 int64</text>\n",
       "</g>\n",
       "<!-- name=R TensorType(int64, scalar) -->\n",
       "<g class=\"node\" id=\"node6\"><title>name=R TensorType(int64, scalar)</title>\n",
       "<polygon fill=\"green\" points=\"213,-384 0,-384 0,-348 213,-348 213,-384\" stroke=\"black\"/>\n",
       "<text font-family=\"Times,serif\" font-size=\"14.00\" text-anchor=\"middle\" x=\"106.5\" y=\"-362.3\">name=R TensorType(int64, scalar)</text>\n",
       "</g>\n",
       "<!-- name=R TensorType(int64, scalar)&#45;&gt;ScalarFromTensor id=2 -->\n",
       "<g class=\"edge\" id=\"edge3\"><title>name=R TensorType(int64, scalar)-&gt;ScalarFromTensor id=2</title>\n",
       "<path d=\"M106.5,-347.799C106.5,-336.163 106.5,-320.548 106.5,-307.237\" fill=\"none\" stroke=\"black\"/>\n",
       "<polygon fill=\"black\" points=\"110,-307.175 106.5,-297.175 103,-307.175 110,-307.175\" stroke=\"black\"/>\n",
       "<text font-family=\"Times,serif\" font-size=\"14.00\" text-anchor=\"middle\" x=\"179.5\" y=\"-318.8\">TensorType(int64, scalar)</text>\n",
       "</g>\n",
       "<!-- ScalarFromTensor id=3 -->\n",
       "<g class=\"node\" id=\"node7\"><title>ScalarFromTensor id=3</title>\n",
       "<ellipse cx=\"512.5\" cy=\"-279\" fill=\"none\" rx=\"97.4827\" ry=\"18\" stroke=\"black\"/>\n",
       "<text font-family=\"Times,serif\" font-size=\"14.00\" text-anchor=\"middle\" x=\"512.5\" y=\"-275.3\">ScalarFromTensor id=3</text>\n",
       "</g>\n",
       "<!-- ScalarFromTensor id=3&#45;&gt;Subtensor{int64, int64, int64} -->\n",
       "<g class=\"edge\" id=\"edge13\"><title>ScalarFromTensor id=3-&gt;Subtensor{int64, int64, int64}</title>\n",
       "<path d=\"M553.009,-262.501C581.853,-251.843 621.693,-237.884 657.5,-228 684.34,-220.591 713.983,-213.905 740.753,-208.409\" fill=\"none\" stroke=\"black\"/>\n",
       "<polygon fill=\"black\" points=\"741.754,-211.777 750.86,-206.362 740.364,-204.917 741.754,-211.777\" stroke=\"black\"/>\n",
       "<text font-family=\"Times,serif\" font-size=\"14.00\" text-anchor=\"middle\" x=\"677.5\" y=\"-231.8\">1 int64</text>\n",
       "</g>\n",
       "<!-- name=A TensorType(int64, scalar) -->\n",
       "<g class=\"node\" id=\"node8\"><title>name=A TensorType(int64, scalar)</title>\n",
       "<polygon fill=\"green\" points=\"619.5,-384 405.5,-384 405.5,-348 619.5,-348 619.5,-384\" stroke=\"black\"/>\n",
       "<text font-family=\"Times,serif\" font-size=\"14.00\" text-anchor=\"middle\" x=\"512.5\" y=\"-362.3\">name=A TensorType(int64, scalar)</text>\n",
       "</g>\n",
       "<!-- name=A TensorType(int64, scalar)&#45;&gt;ScalarFromTensor id=3 -->\n",
       "<g class=\"edge\" id=\"edge4\"><title>name=A TensorType(int64, scalar)-&gt;ScalarFromTensor id=3</title>\n",
       "<path d=\"M512.5,-347.799C512.5,-336.163 512.5,-320.548 512.5,-307.237\" fill=\"none\" stroke=\"black\"/>\n",
       "<polygon fill=\"black\" points=\"516,-307.175 512.5,-297.175 509,-307.175 516,-307.175\" stroke=\"black\"/>\n",
       "<text font-family=\"Times,serif\" font-size=\"14.00\" text-anchor=\"middle\" x=\"585.5\" y=\"-318.8\">TensorType(int64, scalar)</text>\n",
       "</g>\n",
       "<!-- Elemwise{mul,no_inplace} -->\n",
       "<g class=\"node\" id=\"node17\"><title>Elemwise{mul,no_inplace}</title>\n",
       "<ellipse cx=\"939.5\" cy=\"-105\" fill=\"#ffaabb\" rx=\"111.581\" ry=\"18\" stroke=\"black\"/>\n",
       "<text font-family=\"Times,serif\" font-size=\"14.00\" text-anchor=\"middle\" x=\"939.5\" y=\"-101.3\">Elemwise{mul,no_inplace}</text>\n",
       "</g>\n",
       "<!-- Subtensor{int64}&#45;&gt;Elemwise{mul,no_inplace} -->\n",
       "<g class=\"edge\" id=\"edge19\"><title>Subtensor{int64}-&gt;Elemwise{mul,no_inplace}</title>\n",
       "<path d=\"M1314.2,-176.131C1286.05,-164.853 1245.38,-149.832 1208.5,-141 1156.23,-128.48 1097.09,-120.167 1047.61,-114.798\" fill=\"none\" stroke=\"black\"/>\n",
       "<polygon fill=\"black\" points=\"1047.84,-111.302 1037.52,-113.73 1047.1,-118.263 1047.84,-111.302\" stroke=\"black\"/>\n",
       "<text font-family=\"Times,serif\" font-size=\"14.00\" text-anchor=\"middle\" x=\"1344\" y=\"-144.8\">3 TensorType(float64, scalar)</text>\n",
       "</g>\n",
       "<!-- TensorType(float64, vector) -->\n",
       "<g class=\"node\" id=\"node10\"><title>TensorType(float64, vector)</title>\n",
       "<polygon fill=\"green\" points=\"1592.5,-297 1418.5,-297 1418.5,-261 1592.5,-261 1592.5,-297\" stroke=\"black\"/>\n",
       "<text font-family=\"Times,serif\" font-size=\"14.00\" text-anchor=\"middle\" x=\"1505.5\" y=\"-275.3\">TensorType(float64, vector)</text>\n",
       "</g>\n",
       "<!-- TensorType(float64, vector)&#45;&gt;Subtensor{int64} -->\n",
       "<g class=\"edge\" id=\"edge5\"><title>TensorType(float64, vector)-&gt;Subtensor{int64}</title>\n",
       "<path d=\"M1473.93,-260.799C1448.92,-247.173 1413.91,-228.093 1387.39,-213.643\" fill=\"none\" stroke=\"blue\"/>\n",
       "<polygon fill=\"blue\" points=\"1388.85,-210.453 1378.39,-208.742 1385.5,-216.6 1388.85,-210.453\" stroke=\"blue\"/>\n",
       "<text font-family=\"Times,serif\" font-size=\"14.00\" text-anchor=\"middle\" x=\"1522\" y=\"-231.8\">0 TensorType(float64, vector)</text>\n",
       "</g>\n",
       "<!-- Subtensor{int64} id=5&#45;&gt;Elemwise{mul,no_inplace} -->\n",
       "<g class=\"edge\" id=\"edge18\"><title>Subtensor{int64} id=5-&gt;Elemwise{mul,no_inplace}</title>\n",
       "<path d=\"M1048.48,-173.809C1042.78,-163.166 1034.24,-149.883 1023.5,-141 1016.18,-134.946 1007.67,-129.806 998.924,-125.483\" fill=\"none\" stroke=\"black\"/>\n",
       "<polygon fill=\"black\" points=\"1000.32,-122.271 989.77,-121.271 997.391,-128.63 1000.32,-122.271\" stroke=\"black\"/>\n",
       "<text font-family=\"Times,serif\" font-size=\"14.00\" text-anchor=\"middle\" x=\"1121\" y=\"-144.8\">2 TensorType(float64, scalar)</text>\n",
       "</g>\n",
       "<!-- TensorType(float64, vector) id=10 -->\n",
       "<g class=\"node\" id=\"node12\"><title>TensorType(float64, vector) id=10</title>\n",
       "<polygon fill=\"green\" points=\"1225,-297 1014,-297 1014,-261 1225,-261 1225,-297\" stroke=\"black\"/>\n",
       "<text font-family=\"Times,serif\" font-size=\"14.00\" text-anchor=\"middle\" x=\"1119.5\" y=\"-275.3\">TensorType(float64, vector) id=10</text>\n",
       "</g>\n",
       "<!-- TensorType(float64, vector) id=10&#45;&gt;Subtensor{int64} id=5 -->\n",
       "<g class=\"edge\" id=\"edge7\"><title>TensorType(float64, vector) id=10-&gt;Subtensor{int64} id=5</title>\n",
       "<path d=\"M1106.75,-260.799C1097.64,-248.506 1085.24,-231.774 1075.03,-218.007\" fill=\"none\" stroke=\"blue\"/>\n",
       "<polygon fill=\"blue\" points=\"1077.78,-215.835 1069.02,-209.885 1072.16,-220.003 1077.78,-215.835\" stroke=\"blue\"/>\n",
       "<text font-family=\"Times,serif\" font-size=\"14.00\" text-anchor=\"middle\" x=\"1177\" y=\"-231.8\">0 TensorType(float64, vector)</text>\n",
       "</g>\n",
       "<!-- Subtensor{int64, int64}&#45;&gt;Elemwise{mul,no_inplace} -->\n",
       "<g class=\"edge\" id=\"edge17\"><title>Subtensor{int64, int64}-&gt;Elemwise{mul,no_inplace}</title>\n",
       "<path d=\"M519.401,-176.682C560.641,-165.708 619.926,-150.827 672.5,-141 726.886,-130.834 788.049,-122.588 838.1,-116.658\" fill=\"none\" stroke=\"black\"/>\n",
       "<polygon fill=\"black\" points=\"838.756,-120.105 848.281,-115.466 837.942,-113.153 838.756,-120.105\" stroke=\"black\"/>\n",
       "<text font-family=\"Times,serif\" font-size=\"14.00\" text-anchor=\"middle\" x=\"756\" y=\"-144.8\">1 TensorType(float64, scalar)</text>\n",
       "</g>\n",
       "<!-- TensorType(float64, matrix) -->\n",
       "<g class=\"node\" id=\"node14\"><title>TensorType(float64, matrix)</title>\n",
       "<polygon fill=\"green\" points=\"397.5,-297 221.5,-297 221.5,-261 397.5,-261 397.5,-297\" stroke=\"black\"/>\n",
       "<text font-family=\"Times,serif\" font-size=\"14.00\" text-anchor=\"middle\" x=\"309.5\" y=\"-275.3\">TensorType(float64, matrix)</text>\n",
       "</g>\n",
       "<!-- TensorType(float64, matrix)&#45;&gt;Subtensor{int64, int64} -->\n",
       "<g class=\"edge\" id=\"edge9\"><title>TensorType(float64, matrix)-&gt;Subtensor{int64, int64}</title>\n",
       "<path d=\"M333.126,-260.878C347.797,-250.649 367.271,-237.786 385.5,-228 395.732,-222.508 407.009,-217.228 417.84,-212.509\" fill=\"none\" stroke=\"blue\"/>\n",
       "<polygon fill=\"blue\" points=\"419.381,-215.657 427.206,-208.515 416.634,-209.218 419.381,-215.657\" stroke=\"blue\"/>\n",
       "<text font-family=\"Times,serif\" font-size=\"14.00\" text-anchor=\"middle\" x=\"470.5\" y=\"-231.8\">0 TensorType(float64, matrix)</text>\n",
       "</g>\n",
       "<!-- Subtensor{int64, int64, int64}&#45;&gt;Elemwise{mul,no_inplace} -->\n",
       "<g class=\"edge\" id=\"edge16\"><title>Subtensor{int64, int64, int64}-&gt;Elemwise{mul,no_inplace}</title>\n",
       "<path d=\"M832.181,-173.82C837.667,-163.182 845.94,-149.9 856.5,-141 863.613,-135.005 871.902,-129.907 880.436,-125.612\" fill=\"none\" stroke=\"black\"/>\n",
       "<polygon fill=\"black\" points=\"882.17,-128.665 889.749,-121.262 879.207,-122.323 882.17,-128.665\" stroke=\"black\"/>\n",
       "<text font-family=\"Times,serif\" font-size=\"14.00\" text-anchor=\"middle\" x=\"940\" y=\"-144.8\">0 TensorType(float64, scalar)</text>\n",
       "</g>\n",
       "<!-- TensorType(float64, 3D) -->\n",
       "<g class=\"node\" id=\"node16\"><title>TensorType(float64, 3D)</title>\n",
       "<polygon fill=\"green\" points=\"783.5,-297 627.5,-297 627.5,-261 783.5,-261 783.5,-297\" stroke=\"black\"/>\n",
       "<text font-family=\"Times,serif\" font-size=\"14.00\" text-anchor=\"middle\" x=\"705.5\" y=\"-275.3\">TensorType(float64, 3D)</text>\n",
       "</g>\n",
       "<!-- TensorType(float64, 3D)&#45;&gt;Subtensor{int64, int64, int64} -->\n",
       "<g class=\"edge\" id=\"edge12\"><title>TensorType(float64, 3D)-&gt;Subtensor{int64, int64, int64}</title>\n",
       "<path d=\"M701.087,-260.587C699.504,-250.124 699.553,-237.115 706.5,-228 712.46,-220.18 720.09,-214.04 728.597,-209.229\" fill=\"none\" stroke=\"blue\"/>\n",
       "<polygon fill=\"blue\" points=\"730.349,-212.267 737.747,-204.682 727.234,-205.998 730.349,-212.267\" stroke=\"blue\"/>\n",
       "<text font-family=\"Times,serif\" font-size=\"14.00\" text-anchor=\"middle\" x=\"782\" y=\"-231.8\">0 TensorType(float64, 3D)</text>\n",
       "</g>\n",
       "<!-- TensorType(float64, scalar) id=16 -->\n",
       "<g class=\"node\" id=\"node18\"><title>TensorType(float64, scalar) id=16</title>\n",
       "<polygon fill=\"blue\" points=\"1043.5,-36 835.5,-36 835.5,-0 1043.5,-0 1043.5,-36\" stroke=\"black\"/>\n",
       "<text font-family=\"Times,serif\" font-size=\"14.00\" text-anchor=\"middle\" x=\"939.5\" y=\"-14.3\">TensorType(float64, scalar) id=16</text>\n",
       "</g>\n",
       "<!-- Elemwise{mul,no_inplace}&#45;&gt;TensorType(float64, scalar) id=16 -->\n",
       "<g class=\"edge\" id=\"edge20\"><title>Elemwise{mul,no_inplace}-&gt;TensorType(float64, scalar) id=16</title>\n",
       "<path d=\"M939.5,-86.799C939.5,-75.1626 939.5,-59.5479 939.5,-46.2368\" fill=\"none\" stroke=\"black\"/>\n",
       "<polygon fill=\"black\" points=\"943,-46.1754 939.5,-36.1754 936,-46.1755 943,-46.1754\" stroke=\"black\"/>\n",
       "<text font-family=\"Times,serif\" font-size=\"14.00\" text-anchor=\"middle\" x=\"1017.5\" y=\"-57.8\">TensorType(float64, scalar)</text>\n",
       "</g>\n",
       "</g>\n",
       "</svg>"
      ],
      "text/plain": [
       "<IPython.core.display.SVG object>"
      ]
     },
     "execution_count": 14,
     "metadata": {},
     "output_type": "execute_result"
    }
   ],
   "source": [
    "SVG(theano.printing.pydotprint(joint_func, format=\"svg\", return_image=True))\n"
   ]
  },
  {
   "cell_type": "code",
   "execution_count": 15,
   "metadata": {
    "collapsed": false
   },
   "outputs": [
    {
     "name": "stdout",
     "output_type": "stream",
     "text": [
      "9.999e-09\n"
     ]
    }
   ],
   "source": [
    "joint_func_given_r = theano.function([alarm,burglar,earthquake],joint_alarm,givens={radio:1})\n",
    "print joint_func_given_r(1,1,1)"
   ]
  },
  {
   "cell_type": "code",
   "execution_count": 16,
   "metadata": {
    "collapsed": false
   },
   "outputs": [
    {
     "data": {
      "image/svg+xml": [
       "<svg height=\"392pt\" viewBox=\"0.00 0.00 1605.49 392.00\" width=\"1605pt\" xmlns=\"http://www.w3.org/2000/svg\" xmlns:xlink=\"http://www.w3.org/1999/xlink\">\n",
       "<g class=\"graph\" id=\"graph0\" transform=\"scale(1 1) rotate(0) translate(4 388)\">\n",
       "<title>G</title>\n",
       "<polygon fill=\"white\" points=\"-4,4 -4,-388 1601.49,-388 1601.49,4 -4,4\" stroke=\"none\"/>\n",
       "<!-- ScalarFromTensor -->\n",
       "<g class=\"node\" id=\"node1\"><title>ScalarFromTensor</title>\n",
       "<ellipse cx=\"1312.49\" cy=\"-279\" fill=\"none\" rx=\"78.7863\" ry=\"18\" stroke=\"black\"/>\n",
       "<text font-family=\"Times,serif\" font-size=\"14.00\" text-anchor=\"middle\" x=\"1312.49\" y=\"-275.3\">ScalarFromTensor</text>\n",
       "</g>\n",
       "<!-- Subtensor{int64} -->\n",
       "<g class=\"node\" id=\"node9\"><title>Subtensor{int64}</title>\n",
       "<ellipse cx=\"1340.49\" cy=\"-192\" fill=\"#ffaaff\" rx=\"74.9875\" ry=\"18\" stroke=\"black\"/>\n",
       "<text font-family=\"Times,serif\" font-size=\"14.00\" text-anchor=\"middle\" x=\"1340.49\" y=\"-188.3\">Subtensor{int64}</text>\n",
       "</g>\n",
       "<!-- ScalarFromTensor&#45;&gt;Subtensor{int64} -->\n",
       "<g class=\"edge\" id=\"edge6\"><title>ScalarFromTensor-&gt;Subtensor{int64}</title>\n",
       "<path d=\"M1318.16,-260.799C1322.03,-249.047 1327.24,-233.238 1331.65,-219.842\" fill=\"none\" stroke=\"black\"/>\n",
       "<polygon fill=\"black\" points=\"1335.03,-220.768 1334.83,-210.175 1328.38,-218.578 1335.03,-220.768\" stroke=\"black\"/>\n",
       "<text font-family=\"Times,serif\" font-size=\"14.00\" text-anchor=\"middle\" x=\"1348.49\" y=\"-231.8\">1 int64</text>\n",
       "</g>\n",
       "<!-- Subtensor{int64, int64, int64} -->\n",
       "<g class=\"node\" id=\"node15\"><title>Subtensor{int64, int64, int64}</title>\n",
       "<ellipse cx=\"815.491\" cy=\"-192\" fill=\"#ffaaff\" rx=\"120.779\" ry=\"18\" stroke=\"black\"/>\n",
       "<text font-family=\"Times,serif\" font-size=\"14.00\" text-anchor=\"middle\" x=\"815.491\" y=\"-188.3\">Subtensor{int64, int64, int64}</text>\n",
       "</g>\n",
       "<!-- ScalarFromTensor&#45;&gt;Subtensor{int64, int64, int64} -->\n",
       "<g class=\"edge\" id=\"edge14\"><title>ScalarFromTensor-&gt;Subtensor{int64, int64, int64}</title>\n",
       "<path d=\"M1298.49,-260.81C1287.99,-249.287 1272.54,-234.988 1255.49,-228 1191.44,-201.749 1013.41,-216.527 944.491,-210 933.272,-208.938 921.527,-207.644 909.887,-206.249\" fill=\"none\" stroke=\"black\"/>\n",
       "<polygon fill=\"black\" points=\"910.052,-202.743 899.701,-205 909.2,-209.691 910.052,-202.743\" stroke=\"black\"/>\n",
       "<text font-family=\"Times,serif\" font-size=\"14.00\" text-anchor=\"middle\" x=\"1298.49\" y=\"-231.8\">2 int64</text>\n",
       "</g>\n",
       "<!-- name=B TensorType(int64, scalar) -->\n",
       "<g class=\"node\" id=\"node2\"><title>name=B TensorType(int64, scalar)</title>\n",
       "<polygon fill=\"green\" points=\"1418.99,-384 1205.99,-384 1205.99,-348 1418.99,-348 1418.99,-384\" stroke=\"black\"/>\n",
       "<text font-family=\"Times,serif\" font-size=\"14.00\" text-anchor=\"middle\" x=\"1312.49\" y=\"-362.3\">name=B TensorType(int64, scalar)</text>\n",
       "</g>\n",
       "<!-- name=B TensorType(int64, scalar)&#45;&gt;ScalarFromTensor -->\n",
       "<g class=\"edge\" id=\"edge1\"><title>name=B TensorType(int64, scalar)-&gt;ScalarFromTensor</title>\n",
       "<path d=\"M1312.49,-347.799C1312.49,-336.163 1312.49,-320.548 1312.49,-307.237\" fill=\"none\" stroke=\"black\"/>\n",
       "<polygon fill=\"black\" points=\"1315.99,-307.175 1312.49,-297.175 1308.99,-307.175 1315.99,-307.175\" stroke=\"black\"/>\n",
       "<text font-family=\"Times,serif\" font-size=\"14.00\" text-anchor=\"middle\" x=\"1385.49\" y=\"-318.8\">TensorType(int64, scalar)</text>\n",
       "</g>\n",
       "<!-- ScalarFromTensor id=1 -->\n",
       "<g class=\"node\" id=\"node3\"><title>ScalarFromTensor id=1</title>\n",
       "<ellipse cx=\"889.491\" cy=\"-279\" fill=\"none\" rx=\"97.4827\" ry=\"18\" stroke=\"black\"/>\n",
       "<text font-family=\"Times,serif\" font-size=\"14.00\" text-anchor=\"middle\" x=\"889.491\" y=\"-275.3\">ScalarFromTensor id=1</text>\n",
       "</g>\n",
       "<!-- Subtensor{int64} id=5 -->\n",
       "<g class=\"node\" id=\"node11\"><title>Subtensor{int64} id=5</title>\n",
       "<ellipse cx=\"1047.49\" cy=\"-192\" fill=\"#ffaaff\" rx=\"93.6835\" ry=\"18\" stroke=\"black\"/>\n",
       "<text font-family=\"Times,serif\" font-size=\"14.00\" text-anchor=\"middle\" x=\"1047.49\" y=\"-188.3\">Subtensor{int64} id=5</text>\n",
       "</g>\n",
       "<!-- ScalarFromTensor id=1&#45;&gt;Subtensor{int64} id=5 -->\n",
       "<g class=\"edge\" id=\"edge8\"><title>ScalarFromTensor id=1-&gt;Subtensor{int64} id=5</title>\n",
       "<path d=\"M922.438,-261.975C934.201,-256.136 947.504,-249.397 959.491,-243 976.468,-233.941 995.023,-223.483 1010.7,-214.481\" fill=\"none\" stroke=\"black\"/>\n",
       "<polygon fill=\"black\" points=\"1012.65,-217.397 1019.56,-209.37 1009.15,-211.333 1012.65,-217.397\" stroke=\"black\"/>\n",
       "<text font-family=\"Times,serif\" font-size=\"14.00\" text-anchor=\"middle\" x=\"1006.49\" y=\"-231.8\">1 int64</text>\n",
       "</g>\n",
       "<!-- Subtensor{int64, int64} -->\n",
       "<g class=\"node\" id=\"node13\"><title>Subtensor{int64, int64}</title>\n",
       "<ellipse cx=\"458.491\" cy=\"-192\" fill=\"#ffaaff\" rx=\"98.2828\" ry=\"18\" stroke=\"black\"/>\n",
       "<text font-family=\"Times,serif\" font-size=\"14.00\" text-anchor=\"middle\" x=\"458.491\" y=\"-188.3\">Subtensor{int64, int64}</text>\n",
       "</g>\n",
       "<!-- ScalarFromTensor id=1&#45;&gt;Subtensor{int64, int64} -->\n",
       "<g class=\"edge\" id=\"edge11\"><title>ScalarFromTensor id=1-&gt;Subtensor{int64, int64}</title>\n",
       "<path d=\"M880.422,-261.033C873.342,-249.616 862.382,-235.351 848.491,-228 842.066,-224.6 670.042,-210.112 556.63,-200.875\" fill=\"none\" stroke=\"black\"/>\n",
       "<polygon fill=\"black\" points=\"556.779,-197.376 546.528,-200.054 556.211,-204.353 556.779,-197.376\" stroke=\"black\"/>\n",
       "<text font-family=\"Times,serif\" font-size=\"14.00\" text-anchor=\"middle\" x=\"886.491\" y=\"-231.8\">2 int64</text>\n",
       "</g>\n",
       "<!-- ScalarFromTensor id=1&#45;&gt;Subtensor{int64, int64, int64} -->\n",
       "<g class=\"edge\" id=\"edge15\"><title>ScalarFromTensor id=1-&gt;Subtensor{int64, int64, int64}</title>\n",
       "<path d=\"M905.371,-260.927C912.776,-250.837 918.56,-238.101 911.491,-228 906.914,-221.46 900.98,-216.137 894.307,-211.806\" fill=\"none\" stroke=\"black\"/>\n",
       "<polygon fill=\"black\" points=\"895.935,-208.706 885.506,-206.834 892.491,-214.8 895.935,-208.706\" stroke=\"black\"/>\n",
       "<text font-family=\"Times,serif\" font-size=\"14.00\" text-anchor=\"middle\" x=\"935.491\" y=\"-231.8\">3 int64</text>\n",
       "</g>\n",
       "<!-- name=E TensorType(int64, scalar) -->\n",
       "<g class=\"node\" id=\"node4\"><title>name=E TensorType(int64, scalar)</title>\n",
       "<polygon fill=\"green\" points=\"995.491,-384 783.491,-384 783.491,-348 995.491,-348 995.491,-384\" stroke=\"black\"/>\n",
       "<text font-family=\"Times,serif\" font-size=\"14.00\" text-anchor=\"middle\" x=\"889.491\" y=\"-362.3\">name=E TensorType(int64, scalar)</text>\n",
       "</g>\n",
       "<!-- name=E TensorType(int64, scalar)&#45;&gt;ScalarFromTensor id=1 -->\n",
       "<g class=\"edge\" id=\"edge2\"><title>name=E TensorType(int64, scalar)-&gt;ScalarFromTensor id=1</title>\n",
       "<path d=\"M889.491,-347.799C889.491,-336.163 889.491,-320.548 889.491,-307.237\" fill=\"none\" stroke=\"black\"/>\n",
       "<polygon fill=\"black\" points=\"892.991,-307.175 889.491,-297.175 885.991,-307.175 892.991,-307.175\" stroke=\"black\"/>\n",
       "<text font-family=\"Times,serif\" font-size=\"14.00\" text-anchor=\"middle\" x=\"962.491\" y=\"-318.8\">TensorType(int64, scalar)</text>\n",
       "</g>\n",
       "<!-- ScalarFromTensor id=2 -->\n",
       "<g class=\"node\" id=\"node5\"><title>ScalarFromTensor id=2</title>\n",
       "<ellipse cx=\"97.4913\" cy=\"-279\" fill=\"none\" rx=\"97.4827\" ry=\"18\" stroke=\"black\"/>\n",
       "<text font-family=\"Times,serif\" font-size=\"14.00\" text-anchor=\"middle\" x=\"97.4913\" y=\"-275.3\">ScalarFromTensor id=2</text>\n",
       "</g>\n",
       "<!-- ScalarFromTensor id=2&#45;&gt;Subtensor{int64, int64} -->\n",
       "<g class=\"edge\" id=\"edge10\"><title>ScalarFromTensor id=2-&gt;Subtensor{int64, int64}</title>\n",
       "<path d=\"M155.074,-264.404C197.711,-254.341 257.222,-240.303 309.491,-228 335.979,-221.765 365.118,-214.918 390.549,-208.946\" fill=\"none\" stroke=\"black\"/>\n",
       "<polygon fill=\"black\" points=\"391.53,-212.311 400.465,-206.617 389.93,-205.496 391.53,-212.311\" stroke=\"black\"/>\n",
       "<text font-family=\"Times,serif\" font-size=\"14.00\" text-anchor=\"middle\" x=\"329.491\" y=\"-231.8\">1 int64</text>\n",
       "</g>\n",
       "<!-- TensorType(int64, scalar) -->\n",
       "<g class=\"node\" id=\"node6\"><title>TensorType(int64, scalar)</title>\n",
       "<polygon fill=\"green\" points=\"178.491,-384 16.4913,-384 16.4913,-348 178.491,-348 178.491,-384\" stroke=\"black\"/>\n",
       "<text font-family=\"Times,serif\" font-size=\"14.00\" text-anchor=\"middle\" x=\"97.4913\" y=\"-362.3\">TensorType(int64, scalar)</text>\n",
       "</g>\n",
       "<!-- TensorType(int64, scalar)&#45;&gt;ScalarFromTensor id=2 -->\n",
       "<g class=\"edge\" id=\"edge3\"><title>TensorType(int64, scalar)-&gt;ScalarFromTensor id=2</title>\n",
       "<path d=\"M97.4913,-347.799C97.4913,-336.163 97.4913,-320.548 97.4913,-307.237\" fill=\"none\" stroke=\"black\"/>\n",
       "<polygon fill=\"black\" points=\"100.991,-307.175 97.4913,-297.175 93.9914,-307.175 100.991,-307.175\" stroke=\"black\"/>\n",
       "<text font-family=\"Times,serif\" font-size=\"14.00\" text-anchor=\"middle\" x=\"170.491\" y=\"-318.8\">TensorType(int64, scalar)</text>\n",
       "</g>\n",
       "<!-- ScalarFromTensor id=3 -->\n",
       "<g class=\"node\" id=\"node7\"><title>ScalarFromTensor id=3</title>\n",
       "<ellipse cx=\"503.491\" cy=\"-279\" fill=\"none\" rx=\"97.4827\" ry=\"18\" stroke=\"black\"/>\n",
       "<text font-family=\"Times,serif\" font-size=\"14.00\" text-anchor=\"middle\" x=\"503.491\" y=\"-275.3\">ScalarFromTensor id=3</text>\n",
       "</g>\n",
       "<!-- ScalarFromTensor id=3&#45;&gt;Subtensor{int64, int64, int64} -->\n",
       "<g class=\"edge\" id=\"edge13\"><title>ScalarFromTensor id=3-&gt;Subtensor{int64, int64, int64}</title>\n",
       "<path d=\"M544,-262.501C572.845,-251.843 612.684,-237.884 648.491,-228 675.331,-220.591 704.974,-213.905 731.744,-208.409\" fill=\"none\" stroke=\"black\"/>\n",
       "<polygon fill=\"black\" points=\"732.745,-211.777 741.851,-206.362 731.356,-204.917 732.745,-211.777\" stroke=\"black\"/>\n",
       "<text font-family=\"Times,serif\" font-size=\"14.00\" text-anchor=\"middle\" x=\"668.491\" y=\"-231.8\">1 int64</text>\n",
       "</g>\n",
       "<!-- name=A TensorType(int64, scalar) -->\n",
       "<g class=\"node\" id=\"node8\"><title>name=A TensorType(int64, scalar)</title>\n",
       "<polygon fill=\"green\" points=\"610.491,-384 396.491,-384 396.491,-348 610.491,-348 610.491,-384\" stroke=\"black\"/>\n",
       "<text font-family=\"Times,serif\" font-size=\"14.00\" text-anchor=\"middle\" x=\"503.491\" y=\"-362.3\">name=A TensorType(int64, scalar)</text>\n",
       "</g>\n",
       "<!-- name=A TensorType(int64, scalar)&#45;&gt;ScalarFromTensor id=3 -->\n",
       "<g class=\"edge\" id=\"edge4\"><title>name=A TensorType(int64, scalar)-&gt;ScalarFromTensor id=3</title>\n",
       "<path d=\"M503.491,-347.799C503.491,-336.163 503.491,-320.548 503.491,-307.237\" fill=\"none\" stroke=\"black\"/>\n",
       "<polygon fill=\"black\" points=\"506.991,-307.175 503.491,-297.175 499.991,-307.175 506.991,-307.175\" stroke=\"black\"/>\n",
       "<text font-family=\"Times,serif\" font-size=\"14.00\" text-anchor=\"middle\" x=\"576.491\" y=\"-318.8\">TensorType(int64, scalar)</text>\n",
       "</g>\n",
       "<!-- Elemwise{mul,no_inplace} -->\n",
       "<g class=\"node\" id=\"node17\"><title>Elemwise{mul,no_inplace}</title>\n",
       "<ellipse cx=\"930.491\" cy=\"-105\" fill=\"#ffaabb\" rx=\"111.581\" ry=\"18\" stroke=\"black\"/>\n",
       "<text font-family=\"Times,serif\" font-size=\"14.00\" text-anchor=\"middle\" x=\"930.491\" y=\"-101.3\">Elemwise{mul,no_inplace}</text>\n",
       "</g>\n",
       "<!-- Subtensor{int64}&#45;&gt;Elemwise{mul,no_inplace} -->\n",
       "<g class=\"edge\" id=\"edge19\"><title>Subtensor{int64}-&gt;Elemwise{mul,no_inplace}</title>\n",
       "<path d=\"M1305.19,-176.131C1277.04,-164.853 1236.37,-149.832 1199.49,-141 1147.22,-128.48 1088.08,-120.167 1038.6,-114.798\" fill=\"none\" stroke=\"black\"/>\n",
       "<polygon fill=\"black\" points=\"1038.83,-111.302 1028.51,-113.73 1038.09,-118.263 1038.83,-111.302\" stroke=\"black\"/>\n",
       "<text font-family=\"Times,serif\" font-size=\"14.00\" text-anchor=\"middle\" x=\"1334.99\" y=\"-144.8\">3 TensorType(float64, scalar)</text>\n",
       "</g>\n",
       "<!-- TensorType(float64, vector) -->\n",
       "<g class=\"node\" id=\"node10\"><title>TensorType(float64, vector)</title>\n",
       "<polygon fill=\"green\" points=\"1583.49,-297 1409.49,-297 1409.49,-261 1583.49,-261 1583.49,-297\" stroke=\"black\"/>\n",
       "<text font-family=\"Times,serif\" font-size=\"14.00\" text-anchor=\"middle\" x=\"1496.49\" y=\"-275.3\">TensorType(float64, vector)</text>\n",
       "</g>\n",
       "<!-- TensorType(float64, vector)&#45;&gt;Subtensor{int64} -->\n",
       "<g class=\"edge\" id=\"edge5\"><title>TensorType(float64, vector)-&gt;Subtensor{int64}</title>\n",
       "<path d=\"M1464.92,-260.799C1439.92,-247.173 1404.9,-228.093 1378.38,-213.643\" fill=\"none\" stroke=\"blue\"/>\n",
       "<polygon fill=\"blue\" points=\"1379.84,-210.453 1369.38,-208.742 1376.49,-216.6 1379.84,-210.453\" stroke=\"blue\"/>\n",
       "<text font-family=\"Times,serif\" font-size=\"14.00\" text-anchor=\"middle\" x=\"1512.99\" y=\"-231.8\">0 TensorType(float64, vector)</text>\n",
       "</g>\n",
       "<!-- Subtensor{int64} id=5&#45;&gt;Elemwise{mul,no_inplace} -->\n",
       "<g class=\"edge\" id=\"edge18\"><title>Subtensor{int64} id=5-&gt;Elemwise{mul,no_inplace}</title>\n",
       "<path d=\"M1039.47,-173.809C1033.77,-163.166 1025.23,-149.883 1014.49,-141 1007.17,-134.946 998.66,-129.806 989.916,-125.483\" fill=\"none\" stroke=\"black\"/>\n",
       "<polygon fill=\"black\" points=\"991.309,-122.271 980.761,-121.271 988.382,-128.63 991.309,-122.271\" stroke=\"black\"/>\n",
       "<text font-family=\"Times,serif\" font-size=\"14.00\" text-anchor=\"middle\" x=\"1111.99\" y=\"-144.8\">2 TensorType(float64, scalar)</text>\n",
       "</g>\n",
       "<!-- TensorType(float64, vector) id=10 -->\n",
       "<g class=\"node\" id=\"node12\"><title>TensorType(float64, vector) id=10</title>\n",
       "<polygon fill=\"green\" points=\"1215.99,-297 1004.99,-297 1004.99,-261 1215.99,-261 1215.99,-297\" stroke=\"black\"/>\n",
       "<text font-family=\"Times,serif\" font-size=\"14.00\" text-anchor=\"middle\" x=\"1110.49\" y=\"-275.3\">TensorType(float64, vector) id=10</text>\n",
       "</g>\n",
       "<!-- TensorType(float64, vector) id=10&#45;&gt;Subtensor{int64} id=5 -->\n",
       "<g class=\"edge\" id=\"edge7\"><title>TensorType(float64, vector) id=10-&gt;Subtensor{int64} id=5</title>\n",
       "<path d=\"M1097.74,-260.799C1088.63,-248.506 1076.23,-231.774 1066.03,-218.007\" fill=\"none\" stroke=\"blue\"/>\n",
       "<polygon fill=\"blue\" points=\"1068.77,-215.835 1060.01,-209.885 1063.15,-220.003 1068.77,-215.835\" stroke=\"blue\"/>\n",
       "<text font-family=\"Times,serif\" font-size=\"14.00\" text-anchor=\"middle\" x=\"1167.99\" y=\"-231.8\">0 TensorType(float64, vector)</text>\n",
       "</g>\n",
       "<!-- Subtensor{int64, int64}&#45;&gt;Elemwise{mul,no_inplace} -->\n",
       "<g class=\"edge\" id=\"edge17\"><title>Subtensor{int64, int64}-&gt;Elemwise{mul,no_inplace}</title>\n",
       "<path d=\"M510.392,-176.682C551.633,-165.708 610.917,-150.827 663.491,-141 717.877,-130.834 779.04,-122.588 829.092,-116.658\" fill=\"none\" stroke=\"black\"/>\n",
       "<polygon fill=\"black\" points=\"829.747,-120.105 839.272,-115.466 828.933,-113.153 829.747,-120.105\" stroke=\"black\"/>\n",
       "<text font-family=\"Times,serif\" font-size=\"14.00\" text-anchor=\"middle\" x=\"746.991\" y=\"-144.8\">1 TensorType(float64, scalar)</text>\n",
       "</g>\n",
       "<!-- TensorType(float64, matrix) -->\n",
       "<g class=\"node\" id=\"node14\"><title>TensorType(float64, matrix)</title>\n",
       "<polygon fill=\"green\" points=\"388.491,-297 212.491,-297 212.491,-261 388.491,-261 388.491,-297\" stroke=\"black\"/>\n",
       "<text font-family=\"Times,serif\" font-size=\"14.00\" text-anchor=\"middle\" x=\"300.491\" y=\"-275.3\">TensorType(float64, matrix)</text>\n",
       "</g>\n",
       "<!-- TensorType(float64, matrix)&#45;&gt;Subtensor{int64, int64} -->\n",
       "<g class=\"edge\" id=\"edge9\"><title>TensorType(float64, matrix)-&gt;Subtensor{int64, int64}</title>\n",
       "<path d=\"M324.117,-260.878C338.788,-250.649 358.262,-237.786 376.491,-228 386.723,-222.508 398,-217.228 408.831,-212.509\" fill=\"none\" stroke=\"blue\"/>\n",
       "<polygon fill=\"blue\" points=\"410.372,-215.657 418.197,-208.515 407.626,-209.218 410.372,-215.657\" stroke=\"blue\"/>\n",
       "<text font-family=\"Times,serif\" font-size=\"14.00\" text-anchor=\"middle\" x=\"461.491\" y=\"-231.8\">0 TensorType(float64, matrix)</text>\n",
       "</g>\n",
       "<!-- Subtensor{int64, int64, int64}&#45;&gt;Elemwise{mul,no_inplace} -->\n",
       "<g class=\"edge\" id=\"edge16\"><title>Subtensor{int64, int64, int64}-&gt;Elemwise{mul,no_inplace}</title>\n",
       "<path d=\"M823.172,-173.82C828.659,-163.182 836.931,-149.9 847.491,-141 854.605,-135.005 862.894,-129.907 871.428,-125.612\" fill=\"none\" stroke=\"black\"/>\n",
       "<polygon fill=\"black\" points=\"873.161,-128.665 880.74,-121.262 870.199,-122.323 873.161,-128.665\" stroke=\"black\"/>\n",
       "<text font-family=\"Times,serif\" font-size=\"14.00\" text-anchor=\"middle\" x=\"930.991\" y=\"-144.8\">0 TensorType(float64, scalar)</text>\n",
       "</g>\n",
       "<!-- TensorType(float64, 3D) -->\n",
       "<g class=\"node\" id=\"node16\"><title>TensorType(float64, 3D)</title>\n",
       "<polygon fill=\"green\" points=\"774.491,-297 618.491,-297 618.491,-261 774.491,-261 774.491,-297\" stroke=\"black\"/>\n",
       "<text font-family=\"Times,serif\" font-size=\"14.00\" text-anchor=\"middle\" x=\"696.491\" y=\"-275.3\">TensorType(float64, 3D)</text>\n",
       "</g>\n",
       "<!-- TensorType(float64, 3D)&#45;&gt;Subtensor{int64, int64, int64} -->\n",
       "<g class=\"edge\" id=\"edge12\"><title>TensorType(float64, 3D)-&gt;Subtensor{int64, int64, int64}</title>\n",
       "<path d=\"M692.078,-260.587C690.496,-250.124 690.544,-237.115 697.491,-228 703.452,-220.18 711.082,-214.04 719.589,-209.229\" fill=\"none\" stroke=\"blue\"/>\n",
       "<polygon fill=\"blue\" points=\"721.341,-212.267 728.738,-204.682 718.225,-205.998 721.341,-212.267\" stroke=\"blue\"/>\n",
       "<text font-family=\"Times,serif\" font-size=\"14.00\" text-anchor=\"middle\" x=\"772.991\" y=\"-231.8\">0 TensorType(float64, 3D)</text>\n",
       "</g>\n",
       "<!-- TensorType(float64, scalar) id=16 -->\n",
       "<g class=\"node\" id=\"node18\"><title>TensorType(float64, scalar) id=16</title>\n",
       "<polygon fill=\"blue\" points=\"1034.49,-36 826.491,-36 826.491,-0 1034.49,-0 1034.49,-36\" stroke=\"black\"/>\n",
       "<text font-family=\"Times,serif\" font-size=\"14.00\" text-anchor=\"middle\" x=\"930.491\" y=\"-14.3\">TensorType(float64, scalar) id=16</text>\n",
       "</g>\n",
       "<!-- Elemwise{mul,no_inplace}&#45;&gt;TensorType(float64, scalar) id=16 -->\n",
       "<g class=\"edge\" id=\"edge20\"><title>Elemwise{mul,no_inplace}-&gt;TensorType(float64, scalar) id=16</title>\n",
       "<path d=\"M930.491,-86.799C930.491,-75.1626 930.491,-59.5479 930.491,-46.2368\" fill=\"none\" stroke=\"black\"/>\n",
       "<polygon fill=\"black\" points=\"933.991,-46.1754 930.491,-36.1754 926.991,-46.1755 933.991,-46.1754\" stroke=\"black\"/>\n",
       "<text font-family=\"Times,serif\" font-size=\"14.00\" text-anchor=\"middle\" x=\"1008.49\" y=\"-57.8\">TensorType(float64, scalar)</text>\n",
       "</g>\n",
       "</g>\n",
       "</svg>"
      ],
      "text/plain": [
       "<IPython.core.display.SVG object>"
      ]
     },
     "execution_count": 16,
     "metadata": {},
     "output_type": "execute_result"
    }
   ],
   "source": [
    "SVG(theano.printing.pydotprint(joint_func_given_r, format=\"svg\", return_image=True))"
   ]
  },
  {
   "cell_type": "markdown",
   "metadata": {},
   "source": [
    "## Making it more efficient\n",
    "\n",
    "Now, this is certainly a correct way of implementing the joint distribution, but it is not very useful for performing inference. Or, at least, inference using this will be very inefficient. We need another way of handling, combining, marginalizing and conditioning potentials.\n",
    "\n",
    "Think a bit about how inference, in general, happens. We:\n",
    "* Condition variables which are given,\n",
    "* take the product of all conditioned potentials, and\n",
    "* marginalize over the variables we are not interested in.\n",
    "\n",
    "To perform these operations, we need the following information:\n",
    "* The CPD of each factor as an array\n",
    "* The variables bound to each dimension of each CPD\n",
    "* The list of conditioned variables and their corresponding values\n",
    "* The order of variables within the final product potential\n",
    "* The list of variables we wish to marginalize over\n",
    "\n",
    "For example, in the burglar network, if we want to condition $R=1, A=1$, and want to know the marginal for $B$, we can represent all the needed data as follows:"
   ]
  },
  {
   "cell_type": "code",
   "execution_count": 17,
   "metadata": {
    "collapsed": false
   },
   "outputs": [],
   "source": [
    "cpds = [alarm_factor, radio_factor, burglar_factor, earthquake_factor]\n",
    "bound_vars = [(alarm, burglar, earthquake), (radio, earthquake), (burglar,), (earthquake,)]\n",
    "conditioned_vars = set([radio, alarm])\n",
    "final_vars = [burglar]\n",
    "marginalize = [radio, earthquake]"
   ]
  },
  {
   "cell_type": "markdown",
   "metadata": {},
   "source": [
    "Now, to perform the operation, we need to first condition all the CPDs. Each CPD can be conditioned using:"
   ]
  },
  {
   "cell_type": "code",
   "execution_count": 18,
   "metadata": {
    "collapsed": false
   },
   "outputs": [
    {
     "name": "stdout",
     "output_type": "stream",
     "text": [
      "(B, E)\n",
      "Subtensor{int64, ::, ::}.0\n",
      "[[  9.99900000e-01   1.00000000e-02]\n",
      " [  1.00000000e-02   1.00000000e-04]]\n",
      "[[  1.00000000e-04   9.90000000e-01]\n",
      " [  9.90000000e-01   9.99900000e-01]]\n"
     ]
    }
   ],
   "source": [
    "def cpd_condition(cpd, cpd_vars, conditioning_vars):\n",
    "    cpd_slice = []\n",
    "    sliced_cpd_vars = []\n",
    "    for var in cpd_vars:\n",
    "        if (var in conditioning_vars):\n",
    "            cpd_slice.append(var) # Use the variable to condition this dimension\n",
    "        else:\n",
    "            cpd_slice.append(slice(None,None)) # Slice over the whole of the dimension as in A[:]\n",
    "            sliced_cpd_vars.append(var)\n",
    "    cpd_slice = tuple(cpd_slice)\n",
    "    return cpd[cpd_slice], tuple(sliced_cpd_vars)\n",
    "\n",
    "cond, cond_vars = cpd_condition(cpds[0], bound_vars[0], conditioned_vars)\n",
    "print cond_vars\n",
    "print cond\n",
    "print cond.eval({alarm:0})\n",
    "print cond.eval({alarm:1})"
   ]
  },
  {
   "cell_type": "markdown",
   "metadata": {},
   "source": [
    "We need to be able to reorder a CPD's variables to match a final order, inserting dimensions where a variable is missing. Note that `'x'` means that a given dimension has size 1 and is broadcastable (see Theano and Numpy documentation on broadcasting). "
   ]
  },
  {
   "cell_type": "code",
   "execution_count": 19,
   "metadata": {
    "collapsed": false
   },
   "outputs": [
    {
     "name": "stdout",
     "output_type": "stream",
     "text": [
      "DimShuffle{0,x,2,1}.0\n",
      "[[[[  9.99900000e-01   1.00000000e-02]\n",
      "   [  1.00000000e-02   1.00000000e-04]]]\n",
      "\n",
      "\n",
      " [[[  1.00000000e-04   9.90000000e-01]\n",
      "   [  9.90000000e-01   9.99900000e-01]]]]\n"
     ]
    }
   ],
   "source": [
    "def cpd_reorder(cpd, current_var_order, final_var_order):\n",
    "    ordering = []\n",
    "    for v in final_var_order:\n",
    "        try:\n",
    "            idx = current_var_order.index(v)\n",
    "            ordering.append(idx)\n",
    "        except ValueError:\n",
    "            ordering.append(\"x\")\n",
    "    return cpd.dimshuffle(ordering)\n",
    "\n",
    "reordered = cpd_reorder(cpds[0], bound_vars[0], [alarm, radio, earthquake, burglar])\n",
    "print reordered\n",
    "print reordered.eval()"
   ]
  },
  {
   "cell_type": "markdown",
   "metadata": {},
   "source": [
    "Now we are ready to form a product of potentials, given a list of CPDs, their bound variables, and a final variable order."
   ]
  },
  {
   "cell_type": "code",
   "execution_count": 20,
   "metadata": {
    "collapsed": false
   },
   "outputs": [
    {
     "name": "stdout",
     "output_type": "stream",
     "text": [
      "0.0098999901\n"
     ]
    }
   ],
   "source": [
    "import operator\n",
    "\n",
    "def cpd_product(cpds, cpd_bound_vars, final_var_order):\n",
    "    reordered = [cpd_reorder(cpd, bound, final_var_order) for cpd, bound in zip(cpds, cpd_bound_vars)]\n",
    "    return reduce(operator.mul, reordered)\n",
    "\n",
    "joint_cpd = cpd_product(cpds, bound_vars, [alarm, radio, earthquake, burglar])\n",
    "joint_func = theano.function([alarm,burglar,earthquake,radio],joint_cpd[alarm, radio, earthquake, burglar])\n",
    "print joint_func(1,1,0,0)"
   ]
  },
  {
   "cell_type": "markdown",
   "metadata": {},
   "source": [
    "This matches our earlier result, but look at how different the computation graph looks."
   ]
  },
  {
   "cell_type": "code",
   "execution_count": 21,
   "metadata": {
    "collapsed": false
   },
   "outputs": [
    {
     "data": {
      "image/svg+xml": [
       "<svg height=\"392pt\" viewBox=\"0.00 0.00 2084.00 392.00\" width=\"2084pt\" xmlns=\"http://www.w3.org/2000/svg\" xmlns:xlink=\"http://www.w3.org/1999/xlink\">\n",
       "<g class=\"graph\" id=\"graph0\" transform=\"scale(1 1) rotate(0) translate(4 388)\">\n",
       "<title>G</title>\n",
       "<polygon fill=\"white\" points=\"-4,4 -4,-388 2080,-388 2080,4 -4,4\" stroke=\"none\"/>\n",
       "<!-- ScalarFromTensor -->\n",
       "<g class=\"node\" id=\"node1\"><title>ScalarFromTensor</title>\n",
       "<ellipse cx=\"1596\" cy=\"-192\" fill=\"none\" rx=\"78.7863\" ry=\"18\" stroke=\"black\"/>\n",
       "<text font-family=\"Times,serif\" font-size=\"14.00\" text-anchor=\"middle\" x=\"1596\" y=\"-188.3\">ScalarFromTensor</text>\n",
       "</g>\n",
       "<!-- Subtensor{int64, int64, int64, int64} -->\n",
       "<g class=\"node\" id=\"node18\"><title>Subtensor{int64, int64, int64, int64}</title>\n",
       "<ellipse cx=\"569\" cy=\"-105\" fill=\"#ffaaff\" rx=\"144.075\" ry=\"18\" stroke=\"black\"/>\n",
       "<text font-family=\"Times,serif\" font-size=\"14.00\" text-anchor=\"middle\" x=\"569\" y=\"-101.3\">Subtensor{int64, int64, int64, int64}</text>\n",
       "</g>\n",
       "<!-- ScalarFromTensor&#45;&gt;Subtensor{int64, int64, int64, int64} -->\n",
       "<g class=\"edge\" id=\"edge17\"><title>ScalarFromTensor-&gt;Subtensor{int64, int64, int64, int64}</title>\n",
       "<path d=\"M1523.37,-184.989C1350.58,-170.688 913.249,-134.492 695.791,-116.494\" fill=\"none\" stroke=\"black\"/>\n",
       "<polygon fill=\"black\" points=\"695.859,-112.988 685.604,-115.651 695.281,-119.964 695.859,-112.988\" stroke=\"black\"/>\n",
       "<text font-family=\"Times,serif\" font-size=\"14.00\" text-anchor=\"middle\" x=\"1164\" y=\"-144.8\">4 int64</text>\n",
       "</g>\n",
       "<!-- name=B TensorType(int64, scalar) -->\n",
       "<g class=\"node\" id=\"node2\"><title>name=B TensorType(int64, scalar)</title>\n",
       "<polygon fill=\"green\" points=\"2045.5,-297 1832.5,-297 1832.5,-261 2045.5,-261 2045.5,-297\" stroke=\"black\"/>\n",
       "<text font-family=\"Times,serif\" font-size=\"14.00\" text-anchor=\"middle\" x=\"1939\" y=\"-275.3\">name=B TensorType(int64, scalar)</text>\n",
       "</g>\n",
       "<!-- name=B TensorType(int64, scalar)&#45;&gt;ScalarFromTensor -->\n",
       "<g class=\"edge\" id=\"edge1\"><title>name=B TensorType(int64, scalar)-&gt;ScalarFromTensor</title>\n",
       "<path d=\"M1936.01,-260.855C1933.12,-249.661 1927.56,-235.736 1917,-228 1881.19,-201.756 1766.81,-194.589 1684.79,-192.939\" fill=\"none\" stroke=\"black\"/>\n",
       "<polygon fill=\"black\" points=\"1684.77,-189.438 1674.71,-192.76 1684.64,-196.437 1684.77,-189.438\" stroke=\"black\"/>\n",
       "<text font-family=\"Times,serif\" font-size=\"14.00\" text-anchor=\"middle\" x=\"2003\" y=\"-231.8\">TensorType(int64, scalar)</text>\n",
       "</g>\n",
       "<!-- ScalarFromTensor id=1 -->\n",
       "<g class=\"node\" id=\"node3\"><title>ScalarFromTensor id=1</title>\n",
       "<ellipse cx=\"116\" cy=\"-192\" fill=\"none\" rx=\"97.4827\" ry=\"18\" stroke=\"black\"/>\n",
       "<text font-family=\"Times,serif\" font-size=\"14.00\" text-anchor=\"middle\" x=\"116\" y=\"-188.3\">ScalarFromTensor id=1</text>\n",
       "</g>\n",
       "<!-- ScalarFromTensor id=1&#45;&gt;Subtensor{int64, int64, int64, int64} -->\n",
       "<g class=\"edge\" id=\"edge16\"><title>ScalarFromTensor id=1-&gt;Subtensor{int64, int64, int64, int64}</title>\n",
       "<path d=\"M181.87,-178.64C261.379,-163.721 395.294,-138.594 482.913,-122.153\" fill=\"none\" stroke=\"black\"/>\n",
       "<polygon fill=\"black\" points=\"483.649,-125.576 492.832,-120.292 482.358,-118.696 483.649,-125.576\" stroke=\"black\"/>\n",
       "<text font-family=\"Times,serif\" font-size=\"14.00\" text-anchor=\"middle\" x=\"390\" y=\"-144.8\">3 int64</text>\n",
       "</g>\n",
       "<!-- name=E TensorType(int64, scalar) -->\n",
       "<g class=\"node\" id=\"node4\"><title>name=E TensorType(int64, scalar)</title>\n",
       "<polygon fill=\"green\" points=\"212,-297 0,-297 0,-261 212,-261 212,-297\" stroke=\"black\"/>\n",
       "<text font-family=\"Times,serif\" font-size=\"14.00\" text-anchor=\"middle\" x=\"106\" y=\"-275.3\">name=E TensorType(int64, scalar)</text>\n",
       "</g>\n",
       "<!-- name=E TensorType(int64, scalar)&#45;&gt;ScalarFromTensor id=1 -->\n",
       "<g class=\"edge\" id=\"edge2\"><title>name=E TensorType(int64, scalar)-&gt;ScalarFromTensor id=1</title>\n",
       "<path d=\"M108.024,-260.799C109.393,-249.163 111.23,-233.548 112.796,-220.237\" fill=\"none\" stroke=\"black\"/>\n",
       "<polygon fill=\"black\" points=\"116.287,-220.516 113.979,-210.175 109.335,-219.698 116.287,-220.516\" stroke=\"black\"/>\n",
       "<text font-family=\"Times,serif\" font-size=\"14.00\" text-anchor=\"middle\" x=\"185\" y=\"-231.8\">TensorType(int64, scalar)</text>\n",
       "</g>\n",
       "<!-- ScalarFromTensor id=2 -->\n",
       "<g class=\"node\" id=\"node5\"><title>ScalarFromTensor id=2</title>\n",
       "<ellipse cx=\"347\" cy=\"-192\" fill=\"none\" rx=\"97.4827\" ry=\"18\" stroke=\"black\"/>\n",
       "<text font-family=\"Times,serif\" font-size=\"14.00\" text-anchor=\"middle\" x=\"347\" y=\"-188.3\">ScalarFromTensor id=2</text>\n",
       "</g>\n",
       "<!-- ScalarFromTensor id=2&#45;&gt;Subtensor{int64, int64, int64, int64} -->\n",
       "<g class=\"edge\" id=\"edge15\"><title>ScalarFromTensor id=2-&gt;Subtensor{int64, int64, int64, int64}</title>\n",
       "<path d=\"M387.46,-175.509C423.854,-161.574 477.523,-141.025 517.073,-125.882\" fill=\"none\" stroke=\"black\"/>\n",
       "<polygon fill=\"black\" points=\"518.463,-129.098 526.551,-122.253 515.96,-122.56 518.463,-129.098\" stroke=\"black\"/>\n",
       "<text font-family=\"Times,serif\" font-size=\"14.00\" text-anchor=\"middle\" x=\"492\" y=\"-144.8\">2 int64</text>\n",
       "</g>\n",
       "<!-- name=R TensorType(int64, scalar) -->\n",
       "<g class=\"node\" id=\"node6\"><title>name=R TensorType(int64, scalar)</title>\n",
       "<polygon fill=\"green\" points=\"443.5,-297 230.5,-297 230.5,-261 443.5,-261 443.5,-297\" stroke=\"black\"/>\n",
       "<text font-family=\"Times,serif\" font-size=\"14.00\" text-anchor=\"middle\" x=\"337\" y=\"-275.3\">name=R TensorType(int64, scalar)</text>\n",
       "</g>\n",
       "<!-- name=R TensorType(int64, scalar)&#45;&gt;ScalarFromTensor id=2 -->\n",
       "<g class=\"edge\" id=\"edge3\"><title>name=R TensorType(int64, scalar)-&gt;ScalarFromTensor id=2</title>\n",
       "<path d=\"M339.024,-260.799C340.393,-249.163 342.23,-233.548 343.796,-220.237\" fill=\"none\" stroke=\"black\"/>\n",
       "<polygon fill=\"black\" points=\"347.287,-220.516 344.979,-210.175 340.335,-219.698 347.287,-220.516\" stroke=\"black\"/>\n",
       "<text font-family=\"Times,serif\" font-size=\"14.00\" text-anchor=\"middle\" x=\"416\" y=\"-231.8\">TensorType(int64, scalar)</text>\n",
       "</g>\n",
       "<!-- ScalarFromTensor id=3 -->\n",
       "<g class=\"node\" id=\"node7\"><title>ScalarFromTensor id=3</title>\n",
       "<ellipse cx=\"569\" cy=\"-192\" fill=\"none\" rx=\"97.4827\" ry=\"18\" stroke=\"black\"/>\n",
       "<text font-family=\"Times,serif\" font-size=\"14.00\" text-anchor=\"middle\" x=\"569\" y=\"-188.3\">ScalarFromTensor id=3</text>\n",
       "</g>\n",
       "<!-- ScalarFromTensor id=3&#45;&gt;Subtensor{int64, int64, int64, int64} -->\n",
       "<g class=\"edge\" id=\"edge14\"><title>ScalarFromTensor id=3-&gt;Subtensor{int64, int64, int64, int64}</title>\n",
       "<path d=\"M569,-173.799C569,-162.163 569,-146.548 569,-133.237\" fill=\"none\" stroke=\"black\"/>\n",
       "<polygon fill=\"black\" points=\"572.5,-133.175 569,-123.175 565.5,-133.175 572.5,-133.175\" stroke=\"black\"/>\n",
       "<text font-family=\"Times,serif\" font-size=\"14.00\" text-anchor=\"middle\" x=\"589\" y=\"-144.8\">1 int64</text>\n",
       "</g>\n",
       "<!-- name=A TensorType(int64, scalar) -->\n",
       "<g class=\"node\" id=\"node8\"><title>name=A TensorType(int64, scalar)</title>\n",
       "<polygon fill=\"green\" points=\"676,-297 462,-297 462,-261 676,-261 676,-297\" stroke=\"black\"/>\n",
       "<text font-family=\"Times,serif\" font-size=\"14.00\" text-anchor=\"middle\" x=\"569\" y=\"-275.3\">name=A TensorType(int64, scalar)</text>\n",
       "</g>\n",
       "<!-- name=A TensorType(int64, scalar)&#45;&gt;ScalarFromTensor id=3 -->\n",
       "<g class=\"edge\" id=\"edge4\"><title>name=A TensorType(int64, scalar)-&gt;ScalarFromTensor id=3</title>\n",
       "<path d=\"M569,-260.799C569,-249.163 569,-233.548 569,-220.237\" fill=\"none\" stroke=\"black\"/>\n",
       "<polygon fill=\"black\" points=\"572.5,-220.175 569,-210.175 565.5,-220.175 572.5,-220.175\" stroke=\"black\"/>\n",
       "<text font-family=\"Times,serif\" font-size=\"14.00\" text-anchor=\"middle\" x=\"642\" y=\"-231.8\">TensorType(int64, scalar)</text>\n",
       "</g>\n",
       "<!-- InplaceDimShuffle{x,0,1,x} -->\n",
       "<g class=\"node\" id=\"node9\"><title>InplaceDimShuffle{x,0,1,x}</title>\n",
       "<ellipse cx=\"808\" cy=\"-279\" fill=\"none\" rx=\"113.98\" ry=\"18\" stroke=\"black\"/>\n",
       "<text font-family=\"Times,serif\" font-size=\"14.00\" text-anchor=\"middle\" x=\"808\" y=\"-275.3\">InplaceDimShuffle{x,0,1,x}</text>\n",
       "</g>\n",
       "<!-- Elemwise{mul,no_inplace} -->\n",
       "<g class=\"node\" id=\"node17\"><title>Elemwise{mul,no_inplace}</title>\n",
       "<ellipse cx=\"1045\" cy=\"-192\" fill=\"#ffaabb\" rx=\"111.581\" ry=\"18\" stroke=\"black\"/>\n",
       "<text font-family=\"Times,serif\" font-size=\"14.00\" text-anchor=\"middle\" x=\"1045\" y=\"-188.3\">Elemwise{mul,no_inplace}</text>\n",
       "</g>\n",
       "<!-- InplaceDimShuffle{x,0,1,x}&#45;&gt;Elemwise{mul,no_inplace} -->\n",
       "<g class=\"edge\" id=\"edge12\"><title>InplaceDimShuffle{x,0,1,x}-&gt;Elemwise{mul,no_inplace}</title>\n",
       "<path d=\"M779.535,-261.468C766.221,-251.682 755.226,-239.072 765,-228 776.38,-215.109 859.493,-205.831 932.236,-200.08\" fill=\"none\" stroke=\"black\"/>\n",
       "<polygon fill=\"black\" points=\"932.723,-203.553 942.423,-199.292 932.183,-196.573 932.723,-203.553\" stroke=\"black\"/>\n",
       "<text font-family=\"Times,serif\" font-size=\"14.00\" text-anchor=\"middle\" x=\"903\" y=\"-231.8\">3 TensorType(float64, (True, False, False, True))</text>\n",
       "</g>\n",
       "<!-- TensorType(float64, matrix) -->\n",
       "<g class=\"node\" id=\"node10\"><title>TensorType(float64, matrix)</title>\n",
       "<polygon fill=\"green\" points=\"896,-384 720,-384 720,-348 896,-348 896,-384\" stroke=\"black\"/>\n",
       "<text font-family=\"Times,serif\" font-size=\"14.00\" text-anchor=\"middle\" x=\"808\" y=\"-362.3\">TensorType(float64, matrix)</text>\n",
       "</g>\n",
       "<!-- TensorType(float64, matrix)&#45;&gt;InplaceDimShuffle{x,0,1,x} -->\n",
       "<g class=\"edge\" id=\"edge5\"><title>TensorType(float64, matrix)-&gt;InplaceDimShuffle{x,0,1,x}</title>\n",
       "<path d=\"M808,-347.799C808,-336.163 808,-320.548 808,-307.237\" fill=\"none\" stroke=\"blue\"/>\n",
       "<polygon fill=\"blue\" points=\"811.5,-307.175 808,-297.175 804.5,-307.175 811.5,-307.175\" stroke=\"blue\"/>\n",
       "<text font-family=\"Times,serif\" font-size=\"14.00\" text-anchor=\"middle\" x=\"888\" y=\"-318.8\">TensorType(float64, matrix)</text>\n",
       "</g>\n",
       "<!-- InplaceDimShuffle{0,x,2,1} -->\n",
       "<g class=\"node\" id=\"node11\"><title>InplaceDimShuffle{0,x,2,1}</title>\n",
       "<ellipse cx=\"1053\" cy=\"-279\" fill=\"none\" rx=\"113.98\" ry=\"18\" stroke=\"black\"/>\n",
       "<text font-family=\"Times,serif\" font-size=\"14.00\" text-anchor=\"middle\" x=\"1053\" y=\"-275.3\">InplaceDimShuffle{0,x,2,1}</text>\n",
       "</g>\n",
       "<!-- InplaceDimShuffle{0,x,2,1}&#45;&gt;Elemwise{mul,no_inplace} -->\n",
       "<g class=\"edge\" id=\"edge11\"><title>InplaceDimShuffle{0,x,2,1}-&gt;Elemwise{mul,no_inplace}</title>\n",
       "<path d=\"M1048.97,-261.004C1047.79,-255.314 1046.65,-248.914 1046,-243 1045.2,-235.693 1044.82,-227.751 1044.67,-220.393\" fill=\"none\" stroke=\"black\"/>\n",
       "<polygon fill=\"black\" points=\"1048.17,-220.145 1044.59,-210.173 1041.17,-220.199 1048.17,-220.145\" stroke=\"black\"/>\n",
       "<text font-family=\"Times,serif\" font-size=\"14.00\" text-anchor=\"middle\" x=\"1185.5\" y=\"-231.8\">2 TensorType(float64, (False, True, False, False))</text>\n",
       "</g>\n",
       "<!-- TensorType(float64, 3D) -->\n",
       "<g class=\"node\" id=\"node12\"><title>TensorType(float64, 3D)</title>\n",
       "<polygon fill=\"green\" points=\"1131,-384 975,-384 975,-348 1131,-348 1131,-384\" stroke=\"black\"/>\n",
       "<text font-family=\"Times,serif\" font-size=\"14.00\" text-anchor=\"middle\" x=\"1053\" y=\"-362.3\">TensorType(float64, 3D)</text>\n",
       "</g>\n",
       "<!-- TensorType(float64, 3D)&#45;&gt;InplaceDimShuffle{0,x,2,1} -->\n",
       "<g class=\"edge\" id=\"edge6\"><title>TensorType(float64, 3D)-&gt;InplaceDimShuffle{0,x,2,1}</title>\n",
       "<path d=\"M1053,-347.799C1053,-336.163 1053,-320.548 1053,-307.237\" fill=\"none\" stroke=\"blue\"/>\n",
       "<polygon fill=\"blue\" points=\"1056.5,-307.175 1053,-297.175 1049.5,-307.175 1056.5,-307.175\" stroke=\"blue\"/>\n",
       "<text font-family=\"Times,serif\" font-size=\"14.00\" text-anchor=\"middle\" x=\"1123\" y=\"-318.8\">TensorType(float64, 3D)</text>\n",
       "</g>\n",
       "<!-- InplaceDimShuffle{x,x,x,0} -->\n",
       "<g class=\"node\" id=\"node13\"><title>InplaceDimShuffle{x,x,x,0}</title>\n",
       "<ellipse cx=\"1347\" cy=\"-279\" fill=\"none\" rx=\"113.98\" ry=\"18\" stroke=\"black\"/>\n",
       "<text font-family=\"Times,serif\" font-size=\"14.00\" text-anchor=\"middle\" x=\"1347\" y=\"-275.3\">InplaceDimShuffle{x,x,x,0}</text>\n",
       "</g>\n",
       "<!-- InplaceDimShuffle{x,x,x,0}&#45;&gt;Elemwise{mul,no_inplace} -->\n",
       "<g class=\"edge\" id=\"edge10\"><title>InplaceDimShuffle{x,x,x,0}-&gt;Elemwise{mul,no_inplace}</title>\n",
       "<path d=\"M1343.98,-260.908C1341.07,-249.738 1335.49,-235.819 1325,-228 1299.69,-209.143 1228.92,-200.401 1164.87,-196.37\" fill=\"none\" stroke=\"black\"/>\n",
       "<polygon fill=\"black\" points=\"1164.84,-192.862 1154.65,-195.763 1164.43,-199.85 1164.84,-192.862\" stroke=\"black\"/>\n",
       "<text font-family=\"Times,serif\" font-size=\"14.00\" text-anchor=\"middle\" x=\"1474.5\" y=\"-231.8\">1 TensorType(float64, (True, True, True, False))</text>\n",
       "</g>\n",
       "<!-- TensorType(float64, vector) -->\n",
       "<g class=\"node\" id=\"node14\"><title>TensorType(float64, vector)</title>\n",
       "<polygon fill=\"green\" points=\"1434,-384 1260,-384 1260,-348 1434,-348 1434,-384\" stroke=\"black\"/>\n",
       "<text font-family=\"Times,serif\" font-size=\"14.00\" text-anchor=\"middle\" x=\"1347\" y=\"-362.3\">TensorType(float64, vector)</text>\n",
       "</g>\n",
       "<!-- TensorType(float64, vector)&#45;&gt;InplaceDimShuffle{x,x,x,0} -->\n",
       "<g class=\"edge\" id=\"edge7\"><title>TensorType(float64, vector)-&gt;InplaceDimShuffle{x,x,x,0}</title>\n",
       "<path d=\"M1347,-347.799C1347,-336.163 1347,-320.548 1347,-307.237\" fill=\"none\" stroke=\"blue\"/>\n",
       "<polygon fill=\"blue\" points=\"1350.5,-307.175 1347,-297.175 1343.5,-307.175 1350.5,-307.175\" stroke=\"blue\"/>\n",
       "<text font-family=\"Times,serif\" font-size=\"14.00\" text-anchor=\"middle\" x=\"1426\" y=\"-318.8\">TensorType(float64, vector)</text>\n",
       "</g>\n",
       "<!-- InplaceDimShuffle{x,x,0,x} -->\n",
       "<g class=\"node\" id=\"node15\"><title>InplaceDimShuffle{x,x,0,x}</title>\n",
       "<ellipse cx=\"1643\" cy=\"-279\" fill=\"none\" rx=\"113.98\" ry=\"18\" stroke=\"black\"/>\n",
       "<text font-family=\"Times,serif\" font-size=\"14.00\" text-anchor=\"middle\" x=\"1643\" y=\"-275.3\">InplaceDimShuffle{x,x,0,x}</text>\n",
       "</g>\n",
       "<!-- InplaceDimShuffle{x,x,0,x}&#45;&gt;Elemwise{mul,no_inplace} -->\n",
       "<g class=\"edge\" id=\"edge9\"><title>InplaceDimShuffle{x,x,0,x}-&gt;Elemwise{mul,no_inplace}</title>\n",
       "<path d=\"M1638.05,-260.578C1633.85,-249.261 1626.63,-235.302 1615,-228 1596.19,-216.188 1324.44,-203.764 1163.07,-197.372\" fill=\"none\" stroke=\"black\"/>\n",
       "<polygon fill=\"black\" points=\"1162.73,-193.856 1152.6,-196.959 1162.46,-200.85 1162.73,-193.856\" stroke=\"black\"/>\n",
       "<text font-family=\"Times,serif\" font-size=\"14.00\" text-anchor=\"middle\" x=\"1765.5\" y=\"-231.8\">0 TensorType(float64, (True, True, False, True))</text>\n",
       "</g>\n",
       "<!-- TensorType(float64, vector) id=14 -->\n",
       "<g class=\"node\" id=\"node16\"><title>TensorType(float64, vector) id=14</title>\n",
       "<polygon fill=\"green\" points=\"1748.5,-384 1537.5,-384 1537.5,-348 1748.5,-348 1748.5,-384\" stroke=\"black\"/>\n",
       "<text font-family=\"Times,serif\" font-size=\"14.00\" text-anchor=\"middle\" x=\"1643\" y=\"-362.3\">TensorType(float64, vector) id=14</text>\n",
       "</g>\n",
       "<!-- TensorType(float64, vector) id=14&#45;&gt;InplaceDimShuffle{x,x,0,x} -->\n",
       "<g class=\"edge\" id=\"edge8\"><title>TensorType(float64, vector) id=14-&gt;InplaceDimShuffle{x,x,0,x}</title>\n",
       "<path d=\"M1643,-347.799C1643,-336.163 1643,-320.548 1643,-307.237\" fill=\"none\" stroke=\"blue\"/>\n",
       "<polygon fill=\"blue\" points=\"1646.5,-307.175 1643,-297.175 1639.5,-307.175 1646.5,-307.175\" stroke=\"blue\"/>\n",
       "<text font-family=\"Times,serif\" font-size=\"14.00\" text-anchor=\"middle\" x=\"1722\" y=\"-318.8\">TensorType(float64, vector)</text>\n",
       "</g>\n",
       "<!-- Elemwise{mul,no_inplace}&#45;&gt;Subtensor{int64, int64, int64, int64} -->\n",
       "<g class=\"edge\" id=\"edge13\"><title>Elemwise{mul,no_inplace}-&gt;Subtensor{int64, int64, int64, int64}</title>\n",
       "<path d=\"M973.223,-178.183C888.986,-163.14 749.261,-138.189 658.152,-121.92\" fill=\"none\" stroke=\"blue\"/>\n",
       "<polygon fill=\"blue\" points=\"658.576,-118.44 648.117,-120.128 657.346,-125.331 658.576,-118.44\" stroke=\"blue\"/>\n",
       "<text font-family=\"Times,serif\" font-size=\"14.00\" text-anchor=\"middle\" x=\"911.5\" y=\"-144.8\">0 TensorType(float64, 4D)</text>\n",
       "</g>\n",
       "<!-- TensorType(float64, scalar) -->\n",
       "<g class=\"node\" id=\"node19\"><title>TensorType(float64, scalar)</title>\n",
       "<polygon fill=\"blue\" points=\"655,-36 483,-36 483,-0 655,-0 655,-36\" stroke=\"black\"/>\n",
       "<text font-family=\"Times,serif\" font-size=\"14.00\" text-anchor=\"middle\" x=\"569\" y=\"-14.3\">TensorType(float64, scalar)</text>\n",
       "</g>\n",
       "<!-- Subtensor{int64, int64, int64, int64}&#45;&gt;TensorType(float64, scalar) -->\n",
       "<g class=\"edge\" id=\"edge18\"><title>Subtensor{int64, int64, int64, int64}-&gt;TensorType(float64, scalar)</title>\n",
       "<path d=\"M569,-86.799C569,-75.1626 569,-59.5479 569,-46.2368\" fill=\"none\" stroke=\"black\"/>\n",
       "<polygon fill=\"black\" points=\"572.5,-46.1754 569,-36.1754 565.5,-46.1755 572.5,-46.1754\" stroke=\"black\"/>\n",
       "<text font-family=\"Times,serif\" font-size=\"14.00\" text-anchor=\"middle\" x=\"647\" y=\"-57.8\">TensorType(float64, scalar)</text>\n",
       "</g>\n",
       "</g>\n",
       "</svg>"
      ],
      "text/plain": [
       "<IPython.core.display.SVG object>"
      ]
     },
     "execution_count": 21,
     "metadata": {},
     "output_type": "execute_result"
    }
   ],
   "source": [
    "SVG(theano.printing.pydotprint(joint_func, format=\"svg\", return_image=True))"
   ]
  },
  {
   "cell_type": "markdown",
   "metadata": {},
   "source": [
    "You can see that, in this case, the joint CPD is calculated first, then an indexing operation is performed. Previously, each individual CPD was indexed first, followed by a multiplication. Now, this version is actually less efficient, because the function only calculates a single item from the CPD. But, we start winning when we use this representation to *marginalize* over the new CPD. We can do this as follows:"
   ]
  },
  {
   "cell_type": "code",
   "execution_count": 22,
   "metadata": {
    "collapsed": false
   },
   "outputs": [
    {
     "name": "stdout",
     "output_type": "stream",
     "text": [
      "[ 0.99  0.01]\n"
     ]
    }
   ],
   "source": [
    "def cpd_marginalize(cpd, bound_variables, marginalize_out):\n",
    "    axes_to_sum = [bound_variables.index(v) for v in marginalize_out]\n",
    "    return T.sum(cpd,axis=axes_to_sum)\n",
    "\n",
    "marg = cpd_marginalize(joint_cpd, [alarm, radio, earthquake, burglar], [alarm,radio,earthquake])\n",
    "print marg.eval()"
   ]
  },
  {
   "cell_type": "markdown",
   "metadata": {},
   "source": [
    "Note that the above returned the prior over Burglar, which is what we would expect if we marginalize out the all the other variables. Look at the following graph of the computation"
   ]
  },
  {
   "cell_type": "code",
   "execution_count": 23,
   "metadata": {
    "collapsed": false
   },
   "outputs": [
    {
     "data": {
      "image/svg+xml": [
       "<svg height=\"566pt\" viewBox=\"0.00 0.00 928.00 566.00\" width=\"928pt\" xmlns=\"http://www.w3.org/2000/svg\" xmlns:xlink=\"http://www.w3.org/1999/xlink\">\n",
       "<g class=\"graph\" id=\"graph0\" transform=\"scale(1 1) rotate(0) translate(4 562)\">\n",
       "<title>G</title>\n",
       "<polygon fill=\"white\" points=\"-4,4 -4,-562 924,-562 924,4 -4,4\" stroke=\"none\"/>\n",
       "<!-- DimShuffle{x,x,0,x} -->\n",
       "<g class=\"node\" id=\"node1\"><title>DimShuffle{x,x,0,x}</title>\n",
       "<ellipse cx=\"624\" cy=\"-279\" fill=\"none\" rx=\"87.1846\" ry=\"18\" stroke=\"black\"/>\n",
       "<text font-family=\"Times,serif\" font-size=\"14.00\" text-anchor=\"middle\" x=\"624\" y=\"-275.3\">DimShuffle{x,x,0,x}</text>\n",
       "</g>\n",
       "<!-- Elemwise{mul,no_inplace} id=6 -->\n",
       "<g class=\"node\" id=\"node11\"><title>Elemwise{mul,no_inplace} id=6</title>\n",
       "<ellipse cx=\"513\" cy=\"-192\" fill=\"#ffaabb\" rx=\"130.777\" ry=\"18\" stroke=\"black\"/>\n",
       "<text font-family=\"Times,serif\" font-size=\"14.00\" text-anchor=\"middle\" x=\"513\" y=\"-188.3\">Elemwise{mul,no_inplace} id=6</text>\n",
       "</g>\n",
       "<!-- DimShuffle{x,x,0,x}&#45;&gt;Elemwise{mul,no_inplace} id=6 -->\n",
       "<g class=\"edge\" id=\"edge10\"><title>DimShuffle{x,x,0,x}-&gt;Elemwise{mul,no_inplace} id=6</title>\n",
       "<path d=\"M609.23,-261.103C599.76,-250.833 586.869,-237.847 574,-228 567.796,-223.253 560.882,-218.692 554.001,-214.521\" fill=\"none\" stroke=\"black\"/>\n",
       "<polygon fill=\"black\" points=\"555.758,-211.493 545.359,-209.462 552.221,-217.534 555.758,-211.493\" stroke=\"black\"/>\n",
       "<text font-family=\"Times,serif\" font-size=\"14.00\" text-anchor=\"middle\" x=\"727.5\" y=\"-231.8\">1 TensorType(float64, (True, True, False, True))</text>\n",
       "</g>\n",
       "<!-- TensorType(float64, vector) -->\n",
       "<g class=\"node\" id=\"node2\"><title>TensorType(float64, vector)</title>\n",
       "<polygon fill=\"green\" points=\"711,-384 537,-384 537,-348 711,-348 711,-384\" stroke=\"black\"/>\n",
       "<text font-family=\"Times,serif\" font-size=\"14.00\" text-anchor=\"middle\" x=\"624\" y=\"-362.3\">TensorType(float64, vector)</text>\n",
       "</g>\n",
       "<!-- TensorType(float64, vector)&#45;&gt;DimShuffle{x,x,0,x} -->\n",
       "<g class=\"edge\" id=\"edge1\"><title>TensorType(float64, vector)-&gt;DimShuffle{x,x,0,x}</title>\n",
       "<path d=\"M624,-347.799C624,-336.163 624,-320.548 624,-307.237\" fill=\"none\" stroke=\"black\"/>\n",
       "<polygon fill=\"black\" points=\"627.5,-307.175 624,-297.175 620.5,-307.175 627.5,-307.175\" stroke=\"black\"/>\n",
       "<text font-family=\"Times,serif\" font-size=\"14.00\" text-anchor=\"middle\" x=\"703\" y=\"-318.8\">TensorType(float64, vector)</text>\n",
       "</g>\n",
       "<!-- DimShuffle{x,x,x,0} -->\n",
       "<g class=\"node\" id=\"node3\"><title>DimShuffle{x,x,x,0}</title>\n",
       "<ellipse cx=\"102\" cy=\"-366\" fill=\"none\" rx=\"87.1846\" ry=\"18\" stroke=\"black\"/>\n",
       "<text font-family=\"Times,serif\" font-size=\"14.00\" text-anchor=\"middle\" x=\"102\" y=\"-362.3\">DimShuffle{x,x,x,0}</text>\n",
       "</g>\n",
       "<!-- Elemwise{mul,no_inplace} id=5 -->\n",
       "<g class=\"node\" id=\"node10\"><title>Elemwise{mul,no_inplace} id=5</title>\n",
       "<ellipse cx=\"388\" cy=\"-279\" fill=\"#ffaabb\" rx=\"130.777\" ry=\"18\" stroke=\"black\"/>\n",
       "<text font-family=\"Times,serif\" font-size=\"14.00\" text-anchor=\"middle\" x=\"388\" y=\"-275.3\">Elemwise{mul,no_inplace} id=5</text>\n",
       "</g>\n",
       "<!-- DimShuffle{x,x,x,0}&#45;&gt;Elemwise{mul,no_inplace} id=5 -->\n",
       "<g class=\"edge\" id=\"edge8\"><title>DimShuffle{x,x,x,0}-&gt;Elemwise{mul,no_inplace} id=5</title>\n",
       "<path d=\"M102.231,-347.626C103.354,-336.628 106.726,-323.018 116,-315 136.726,-297.081 193.791,-288.2 250.333,-283.852\" fill=\"none\" stroke=\"black\"/>\n",
       "<polygon fill=\"black\" points=\"250.782,-287.329 260.503,-283.117 250.277,-280.347 250.782,-287.329\" stroke=\"black\"/>\n",
       "<text font-family=\"Times,serif\" font-size=\"14.00\" text-anchor=\"middle\" x=\"252.5\" y=\"-318.8\">1 TensorType(float64, (True, True, True, False))</text>\n",
       "</g>\n",
       "<!-- TensorType(float64, vector) id=2 -->\n",
       "<g class=\"node\" id=\"node4\"><title>TensorType(float64, vector) id=2</title>\n",
       "<polygon fill=\"green\" points=\"204,-471 0,-471 0,-435 204,-435 204,-471\" stroke=\"black\"/>\n",
       "<text font-family=\"Times,serif\" font-size=\"14.00\" text-anchor=\"middle\" x=\"102\" y=\"-449.3\">TensorType(float64, vector) id=2</text>\n",
       "</g>\n",
       "<!-- TensorType(float64, vector) id=2&#45;&gt;DimShuffle{x,x,x,0} -->\n",
       "<g class=\"edge\" id=\"edge2\"><title>TensorType(float64, vector) id=2-&gt;DimShuffle{x,x,x,0}</title>\n",
       "<path d=\"M102,-434.799C102,-423.163 102,-407.548 102,-394.237\" fill=\"none\" stroke=\"black\"/>\n",
       "<polygon fill=\"black\" points=\"105.5,-394.175 102,-384.175 98.5001,-394.175 105.5,-394.175\" stroke=\"black\"/>\n",
       "<text font-family=\"Times,serif\" font-size=\"14.00\" text-anchor=\"middle\" x=\"181\" y=\"-405.8\">TensorType(float64, vector)</text>\n",
       "</g>\n",
       "<!-- DimShuffle{x,0,1,x} -->\n",
       "<g class=\"node\" id=\"node5\"><title>DimShuffle{x,0,1,x}</title>\n",
       "<ellipse cx=\"353\" cy=\"-453\" fill=\"none\" rx=\"87.1846\" ry=\"18\" stroke=\"black\"/>\n",
       "<text font-family=\"Times,serif\" font-size=\"14.00\" text-anchor=\"middle\" x=\"353\" y=\"-449.3\">DimShuffle{x,0,1,x}</text>\n",
       "</g>\n",
       "<!-- Elemwise{mul,no_inplace} -->\n",
       "<g class=\"node\" id=\"node9\"><title>Elemwise{mul,no_inplace}</title>\n",
       "<ellipse cx=\"398\" cy=\"-366\" fill=\"#ffaabb\" rx=\"111.581\" ry=\"18\" stroke=\"black\"/>\n",
       "<text font-family=\"Times,serif\" font-size=\"14.00\" text-anchor=\"middle\" x=\"398\" y=\"-362.3\">Elemwise{mul,no_inplace}</text>\n",
       "</g>\n",
       "<!-- DimShuffle{x,0,1,x}&#45;&gt;Elemwise{mul,no_inplace} -->\n",
       "<g class=\"edge\" id=\"edge6\"><title>DimShuffle{x,0,1,x}-&gt;Elemwise{mul,no_inplace}</title>\n",
       "<path d=\"M349.851,-434.938C348.815,-424.852 348.995,-412.117 354,-402 356.052,-397.853 358.853,-394.041 362.055,-390.583\" fill=\"none\" stroke=\"black\"/>\n",
       "<polygon fill=\"black\" points=\"364.637,-392.961 369.57,-383.585 359.866,-387.838 364.637,-392.961\" stroke=\"black\"/>\n",
       "<text font-family=\"Times,serif\" font-size=\"14.00\" text-anchor=\"middle\" x=\"492\" y=\"-405.8\">1 TensorType(float64, (True, False, False, True))</text>\n",
       "</g>\n",
       "<!-- TensorType(float64, matrix) -->\n",
       "<g class=\"node\" id=\"node6\"><title>TensorType(float64, matrix)</title>\n",
       "<polygon fill=\"green\" points=\"441,-558 265,-558 265,-522 441,-522 441,-558\" stroke=\"black\"/>\n",
       "<text font-family=\"Times,serif\" font-size=\"14.00\" text-anchor=\"middle\" x=\"353\" y=\"-536.3\">TensorType(float64, matrix)</text>\n",
       "</g>\n",
       "<!-- TensorType(float64, matrix)&#45;&gt;DimShuffle{x,0,1,x} -->\n",
       "<g class=\"edge\" id=\"edge3\"><title>TensorType(float64, matrix)-&gt;DimShuffle{x,0,1,x}</title>\n",
       "<path d=\"M353,-521.799C353,-510.163 353,-494.548 353,-481.237\" fill=\"none\" stroke=\"black\"/>\n",
       "<polygon fill=\"black\" points=\"356.5,-481.175 353,-471.175 349.5,-481.175 356.5,-481.175\" stroke=\"black\"/>\n",
       "<text font-family=\"Times,serif\" font-size=\"14.00\" text-anchor=\"middle\" x=\"433\" y=\"-492.8\">TensorType(float64, matrix)</text>\n",
       "</g>\n",
       "<!-- DimShuffle{0,x,2,1} -->\n",
       "<g class=\"node\" id=\"node7\"><title>DimShuffle{0,x,2,1}</title>\n",
       "<ellipse cx=\"652\" cy=\"-453\" fill=\"none\" rx=\"87.1846\" ry=\"18\" stroke=\"black\"/>\n",
       "<text font-family=\"Times,serif\" font-size=\"14.00\" text-anchor=\"middle\" x=\"652\" y=\"-449.3\">DimShuffle{0,x,2,1}</text>\n",
       "</g>\n",
       "<!-- DimShuffle{0,x,2,1}&#45;&gt;Elemwise{mul,no_inplace} -->\n",
       "<g class=\"edge\" id=\"edge5\"><title>DimShuffle{0,x,2,1}-&gt;Elemwise{mul,no_inplace}</title>\n",
       "<path d=\"M648.912,-434.992C645.976,-423.86 640.395,-409.952 630,-402 624.292,-397.634 554.356,-387.443 492.75,-379.177\" fill=\"none\" stroke=\"black\"/>\n",
       "<polygon fill=\"black\" points=\"492.926,-375.67 482.551,-377.816 492,-382.608 492.926,-375.67\" stroke=\"black\"/>\n",
       "<text font-family=\"Times,serif\" font-size=\"14.00\" text-anchor=\"middle\" x=\"780.5\" y=\"-405.8\">0 TensorType(float64, (False, True, False, False))</text>\n",
       "</g>\n",
       "<!-- TensorType(float64, 3D) -->\n",
       "<g class=\"node\" id=\"node8\"><title>TensorType(float64, 3D)</title>\n",
       "<polygon fill=\"green\" points=\"730,-558 574,-558 574,-522 730,-522 730,-558\" stroke=\"black\"/>\n",
       "<text font-family=\"Times,serif\" font-size=\"14.00\" text-anchor=\"middle\" x=\"652\" y=\"-536.3\">TensorType(float64, 3D)</text>\n",
       "</g>\n",
       "<!-- TensorType(float64, 3D)&#45;&gt;DimShuffle{0,x,2,1} -->\n",
       "<g class=\"edge\" id=\"edge4\"><title>TensorType(float64, 3D)-&gt;DimShuffle{0,x,2,1}</title>\n",
       "<path d=\"M652,-521.799C652,-510.163 652,-494.548 652,-481.237\" fill=\"none\" stroke=\"black\"/>\n",
       "<polygon fill=\"black\" points=\"655.5,-481.175 652,-471.175 648.5,-481.175 655.5,-481.175\" stroke=\"black\"/>\n",
       "<text font-family=\"Times,serif\" font-size=\"14.00\" text-anchor=\"middle\" x=\"722\" y=\"-492.8\">TensorType(float64, 3D)</text>\n",
       "</g>\n",
       "<!-- Elemwise{mul,no_inplace}&#45;&gt;Elemwise{mul,no_inplace} id=5 -->\n",
       "<g class=\"edge\" id=\"edge7\"><title>Elemwise{mul,no_inplace}-&gt;Elemwise{mul,no_inplace} id=5</title>\n",
       "<path d=\"M395.976,-347.799C394.607,-336.163 392.77,-320.548 391.204,-307.237\" fill=\"none\" stroke=\"black\"/>\n",
       "<polygon fill=\"black\" points=\"394.665,-306.698 390.021,-297.175 387.713,-307.516 394.665,-306.698\" stroke=\"black\"/>\n",
       "<text font-family=\"Times,serif\" font-size=\"14.00\" text-anchor=\"middle\" x=\"469.5\" y=\"-318.8\">0 TensorType(float64, 4D)</text>\n",
       "</g>\n",
       "<!-- Elemwise{mul,no_inplace} id=5&#45;&gt;Elemwise{mul,no_inplace} id=6 -->\n",
       "<g class=\"edge\" id=\"edge9\"><title>Elemwise{mul,no_inplace} id=5-&gt;Elemwise{mul,no_inplace} id=6</title>\n",
       "<path d=\"M395.196,-260.664C400.414,-249.964 408.411,-236.671 419,-228 426.68,-221.712 435.6,-216.488 444.827,-212.168\" fill=\"none\" stroke=\"black\"/>\n",
       "<polygon fill=\"black\" points=\"446.337,-215.328 454.122,-208.142 443.555,-208.904 446.337,-215.328\" stroke=\"black\"/>\n",
       "<text font-family=\"Times,serif\" font-size=\"14.00\" text-anchor=\"middle\" x=\"494.5\" y=\"-231.8\">0 TensorType(float64, 4D)</text>\n",
       "</g>\n",
       "<!-- Sum{axis=[0, 1, 2], acc_dtype=float64} -->\n",
       "<g class=\"node\" id=\"node12\"><title>Sum{axis=[0, 1, 2], acc_dtype=float64}</title>\n",
       "<ellipse cx=\"513\" cy=\"-105\" fill=\"none\" rx=\"156.772\" ry=\"18\" stroke=\"black\"/>\n",
       "<text font-family=\"Times,serif\" font-size=\"14.00\" text-anchor=\"middle\" x=\"513\" y=\"-101.3\">Sum{axis=[0, 1, 2], acc_dtype=float64}</text>\n",
       "</g>\n",
       "<!-- Elemwise{mul,no_inplace} id=6&#45;&gt;Sum{axis=[0, 1, 2], acc_dtype=float64} -->\n",
       "<g class=\"edge\" id=\"edge11\"><title>Elemwise{mul,no_inplace} id=6-&gt;Sum{axis=[0, 1, 2], acc_dtype=float64}</title>\n",
       "<path d=\"M513,-173.799C513,-162.163 513,-146.548 513,-133.237\" fill=\"none\" stroke=\"black\"/>\n",
       "<polygon fill=\"black\" points=\"516.5,-133.175 513,-123.175 509.5,-133.175 516.5,-133.175\" stroke=\"black\"/>\n",
       "<text font-family=\"Times,serif\" font-size=\"14.00\" text-anchor=\"middle\" x=\"583\" y=\"-144.8\">TensorType(float64, 4D)</text>\n",
       "</g>\n",
       "<!-- TensorType(float64, vector) id=11 -->\n",
       "<g class=\"node\" id=\"node13\"><title>TensorType(float64, vector) id=11</title>\n",
       "<polygon fill=\"blue\" points=\"618.5,-36 407.5,-36 407.5,-0 618.5,-0 618.5,-36\" stroke=\"black\"/>\n",
       "<text font-family=\"Times,serif\" font-size=\"14.00\" text-anchor=\"middle\" x=\"513\" y=\"-14.3\">TensorType(float64, vector) id=11</text>\n",
       "</g>\n",
       "<!-- Sum{axis=[0, 1, 2], acc_dtype=float64}&#45;&gt;TensorType(float64, vector) id=11 -->\n",
       "<g class=\"edge\" id=\"edge12\"><title>Sum{axis=[0, 1, 2], acc_dtype=float64}-&gt;TensorType(float64, vector) id=11</title>\n",
       "<path d=\"M513,-86.799C513,-75.1626 513,-59.5479 513,-46.2368\" fill=\"none\" stroke=\"black\"/>\n",
       "<polygon fill=\"black\" points=\"516.5,-46.1754 513,-36.1754 509.5,-46.1755 516.5,-46.1754\" stroke=\"black\"/>\n",
       "<text font-family=\"Times,serif\" font-size=\"14.00\" text-anchor=\"middle\" x=\"592\" y=\"-57.8\">TensorType(float64, vector)</text>\n",
       "</g>\n",
       "</g>\n",
       "</svg>"
      ],
      "text/plain": [
       "<IPython.core.display.SVG object>"
      ]
     },
     "execution_count": 23,
     "metadata": {},
     "output_type": "execute_result"
    }
   ],
   "source": [
    "SVG(theano.printing.pydotprint(marg, format=\"svg\", return_image=True))"
   ]
  },
  {
   "cell_type": "markdown",
   "metadata": {},
   "source": [
    "can you see that these are all tensor operations? This is a whole lot more efficient than dealing with individual indices."
   ]
  },
  {
   "cell_type": "markdown",
   "metadata": {},
   "source": [
    "## Question 1: An Automated Party Animal\n",
    "\n",
    "Use the methods `cpd_condition`, `cpd_product` and `cpd_marginalize` to answer Exercise 3.1. in the textbook. \n",
    "\n",
    "First, write a method `infer`, which will take a list of CPDs, a list of the bound variables of each CPD, a list of conditioning variables, and a list of final variables. The function must return a symbolic variable which is are the marginal probabilities given the conditioning variables, ordered as in the final variables list. An error must be raised if a variable in conditioning_vars is in final_vars. Note that the variables being marginalized out are implicit, in that the union of all variables in cpd_var_list, taking away the conditioning_vars, taking away the final_vars, are the variables over which marginalization takes place. Remember that you have to normalize the resulting array, as it is *not* a conditional distribution, it is a joint distribution which has had some of its variables set to constant values.\n"
   ]
  },
  {
   "cell_type": "code",
   "execution_count": 24,
   "metadata": {
    "collapsed": true
   },
   "outputs": [],
   "source": [
    "def infer(cpds, cpd_vars, conditioning_vars, final_vars):\n",
    "    # INSERT CODE HERE\n",
    "    return None\n",
    " "
   ]
  },
  {
   "cell_type": "markdown",
   "metadata": {},
   "source": [
    "If your code is working, you should be able to run the following (based on the Burglar network variables). The answer should be $p(B=1|R=1,A=1)\\approx 0.01$"
   ]
  },
  {
   "cell_type": "code",
   "execution_count": 25,
   "metadata": {
    "collapsed": false
   },
   "outputs": [
    {
     "ename": "AttributeError",
     "evalue": "'NoneType' object has no attribute 'eval'",
     "output_type": "error",
     "traceback": [
      "\u001b[0;31m---------------------------------------------------------------------------\u001b[0m",
      "\u001b[0;31mAttributeError\u001b[0m                            Traceback (most recent call last)",
      "\u001b[0;32m<ipython-input-25-28207c10abca>\u001b[0m in \u001b[0;36m<module>\u001b[0;34m()\u001b[0m\n\u001b[1;32m      1\u001b[0m \u001b[0ma\u001b[0m \u001b[0;34m=\u001b[0m \u001b[0minfer\u001b[0m\u001b[0;34m(\u001b[0m\u001b[0mcpds\u001b[0m\u001b[0;34m,\u001b[0m \u001b[0mbound_vars\u001b[0m\u001b[0;34m,\u001b[0m \u001b[0;34m[\u001b[0m\u001b[0mradio\u001b[0m\u001b[0;34m,\u001b[0m \u001b[0malarm\u001b[0m\u001b[0;34m]\u001b[0m\u001b[0;34m,\u001b[0m \u001b[0;34m[\u001b[0m\u001b[0mburglar\u001b[0m\u001b[0;34m]\u001b[0m\u001b[0;34m)\u001b[0m\u001b[0;34m\u001b[0m\u001b[0m\n\u001b[0;32m----> 2\u001b[0;31m \u001b[0;32mprint\u001b[0m \u001b[0ma\u001b[0m\u001b[0;34m.\u001b[0m\u001b[0meval\u001b[0m\u001b[0;34m(\u001b[0m\u001b[0;34m{\u001b[0m\u001b[0mradio\u001b[0m\u001b[0;34m:\u001b[0m\u001b[0;36m1\u001b[0m\u001b[0;34m,\u001b[0m\u001b[0malarm\u001b[0m\u001b[0;34m:\u001b[0m\u001b[0;36m1\u001b[0m\u001b[0;34m}\u001b[0m\u001b[0;34m)\u001b[0m\u001b[0;34m[\u001b[0m\u001b[0;36m1\u001b[0m\u001b[0;34m]\u001b[0m\u001b[0;34m\u001b[0m\u001b[0m\n\u001b[0m\u001b[1;32m      3\u001b[0m \u001b[0mSVG\u001b[0m\u001b[0;34m(\u001b[0m\u001b[0mtheano\u001b[0m\u001b[0;34m.\u001b[0m\u001b[0mprinting\u001b[0m\u001b[0;34m.\u001b[0m\u001b[0mpydotprint\u001b[0m\u001b[0;34m(\u001b[0m\u001b[0ma\u001b[0m\u001b[0;34m,\u001b[0m \u001b[0mformat\u001b[0m\u001b[0;34m=\u001b[0m\u001b[0;34m\"svg\"\u001b[0m\u001b[0;34m,\u001b[0m \u001b[0mreturn_image\u001b[0m\u001b[0;34m=\u001b[0m\u001b[0mTrue\u001b[0m\u001b[0;34m)\u001b[0m\u001b[0;34m)\u001b[0m\u001b[0;34m\u001b[0m\u001b[0m\n",
      "\u001b[0;31mAttributeError\u001b[0m: 'NoneType' object has no attribute 'eval'"
     ]
    }
   ],
   "source": [
    "a = infer(cpds, bound_vars, [radio, alarm], [burglar])\n",
    "print a.eval({radio:1,alarm:1})[1]\n",
    "SVG(theano.printing.pydotprint(a, format=\"svg\", return_image=True))"
   ]
  },
  {
   "cell_type": "markdown",
   "metadata": {},
   "source": [
    "Write the script to solve the Party Animal question $p(Party=1|Headache=1,Angry=1)$ in the block below:"
   ]
  },
  {
   "cell_type": "code",
   "execution_count": null,
   "metadata": {
    "collapsed": false
   },
   "outputs": [],
   "source": [
    "# Insert code here"
   ]
  },
  {
   "cell_type": "markdown",
   "metadata": {},
   "source": [
    "Plot the computation graph corresponding to your calculation below:"
   ]
  },
  {
   "cell_type": "code",
   "execution_count": null,
   "metadata": {
    "collapsed": false
   },
   "outputs": [],
   "source": [
    "# Insert code here"
   ]
  },
  {
   "cell_type": "markdown",
   "metadata": {},
   "source": [
    "What is the probability that Bob went to a party if we don't know whether or not he has a headache?"
   ]
  },
  {
   "cell_type": "code",
   "execution_count": null,
   "metadata": {
    "collapsed": false
   },
   "outputs": [],
   "source": [
    "# Insert code"
   ]
  },
  {
   "cell_type": "markdown",
   "metadata": {},
   "source": [
    "What is the probability that Bob went to a party if we know he does not have a headache?"
   ]
  },
  {
   "cell_type": "code",
   "execution_count": null,
   "metadata": {
    "collapsed": false,
    "scrolled": true
   },
   "outputs": [],
   "source": [
    "# Insert code"
   ]
  },
  {
   "cell_type": "markdown",
   "metadata": {},
   "source": [
    "Discuss the phenomenon you observe in the previous questions."
   ]
  },
  {
   "cell_type": "markdown",
   "metadata": {},
   "source": [
    "Add your explanation here ..."
   ]
  },
  {
   "cell_type": "markdown",
   "metadata": {},
   "source": [
    "## Question 2: The Monty Hall Problem\n",
    "\n",
    "For this one we are going to consider the well-known Monty-Hall problem.   Lets first state the original\n",
    "problem:  In a TV game-show a participant must choose between one of three doors.  Behind one of the\n",
    "doors there is an expensive car, the other two conceals somewhat smelly goats.  The participant indicates\n",
    "a certain door after which the game-show host (Monty Hall) reveals a goat behind another door.  You can\n",
    "assume that the host will never at this stage open the initial choice of the participant or the door with the car.\n",
    "Except for this, he has no preference for any specific door.  The participant now may reconsider his choice.\n",
    "Under the assumption that he actually wants to win the car, should he stick with his original choice or should\n",
    "he change to the other remaining door?\n",
    "\n",
    "Model the above situation with a BN. Use three random variables:\n",
    "- $I$ is the initial choice of the participant – it takes on values $1$, $2$ or $3$ depending on his door of\n",
    "choice. The corresponding factor is $p(I)$.\n",
    "- $C$ is where the car is – once again it takes on values $1$, $2$ or $3$ depending on where the car actually is. The corresponding factor is $p(C)$.\n",
    "- $M$ is the door that Monty opens – once again it takes on values $1$, $2$ or $3$ depending on where the car actually is. The corresponding factor is $p(M|I,C)$. This is the tricky one to set up, carefully include all the considerations that Monty have to keep in mind when doing so.\n",
    "\n",
    "Write your expressions for the above probability distributions in the box below. Motivate your answers.\n"
   ]
  },
  {
   "cell_type": "markdown",
   "metadata": {},
   "source": [
    "EXPRESSIONS"
   ]
  },
  {
   "cell_type": "code",
   "execution_count": null,
   "metadata": {
    "collapsed": false
   },
   "outputs": [],
   "source": [
    "# Add your code for setting up the factors in Python\n"
   ]
  },
  {
   "cell_type": "markdown",
   "metadata": {},
   "source": [
    "With the above factors in place it is easy to investigate various scenarios. Set $I$ to one of its allowed values, while leaving the other variables unobserved. Does this change the marginal for $C$? What is your conclusion about the dependence (or not) of $C$ on $I$ when $M$ is unobserved? "
   ]
  },
  {
   "cell_type": "code",
   "execution_count": null,
   "metadata": {
    "collapsed": false
   },
   "outputs": [],
   "source": [
    "# Insert code"
   ]
  },
  {
   "cell_type": "markdown",
   "metadata": {},
   "source": [
    "ADD DISCUSSION"
   ]
  },
  {
   "cell_type": "markdown",
   "metadata": {},
   "source": [
    "Set $M$ to one of the values it can take on, while leaving the other variables unobserved.  Find the marginal for $C$. Now, with $M$ still on the value you choose, set $I$ to one of the two remaining values it can legally take on. Does this change the marginal for $C$?"
   ]
  },
  {
   "cell_type": "code",
   "execution_count": null,
   "metadata": {
    "collapsed": false
   },
   "outputs": [],
   "source": [
    "# Insert code"
   ]
  },
  {
   "cell_type": "markdown",
   "metadata": {},
   "source": [
    "ADD DISCUSSION"
   ]
  },
  {
   "cell_type": "markdown",
   "metadata": {},
   "source": [
    "Do the above in the opposite direction by setting a value for $C$ and observing what it tells us about the distribution of $I$, for the cases where $M$ is observed vs unobserved."
   ]
  },
  {
   "cell_type": "code",
   "execution_count": null,
   "metadata": {
    "collapsed": false
   },
   "outputs": [],
   "source": [
    "# Insert code"
   ]
  },
  {
   "cell_type": "markdown",
   "metadata": {},
   "source": [
    "ADD DISCUSSION"
   ]
  },
  {
   "cell_type": "markdown",
   "metadata": {},
   "source": [
    "Let’s make things slightly more complex.  The game remains more or less as it was, but we are now\n",
    "being prevented from observing $M$ directly.  Instead we get to observe a variable $D$ that depends on $M$.  Define the factor $p(D|M)$ such that we have a 50% chance that $D$ will report the correct value of $M$, and 25% chances that it will (erroneously) report one of the other two values for $M$.  Repeat the above, but now with $D$ observed/unobserved instead of $M$ (which now is never being observed directly). Conclusions?"
   ]
  },
  {
   "cell_type": "code",
   "execution_count": null,
   "metadata": {
    "collapsed": false
   },
   "outputs": [],
   "source": [
    "# Insert code"
   ]
  },
  {
   "cell_type": "markdown",
   "metadata": {},
   "source": [
    "ADD DISCUSSION"
   ]
  },
  {
   "cell_type": "markdown",
   "metadata": {},
   "source": [
    "Can you specify other equivalent networks by reversing the direction of some of the arrows?"
   ]
  },
  {
   "cell_type": "markdown",
   "metadata": {},
   "source": [
    "ADD DISCUSSION"
   ]
  },
  {
   "cell_type": "markdown",
   "metadata": {},
   "source": [
    "What happens to $C$ when you set the observed value of $D$ to be the same as $I$?  What is the sense behind this?"
   ]
  },
  {
   "cell_type": "code",
   "execution_count": null,
   "metadata": {
    "collapsed": false
   },
   "outputs": [],
   "source": [
    "conditioning_vars = [distrusted, initial]\n",
    "final_vars = [car]\n",
    "marginal = infer(distrusted_monty_hall_factors, distrusted_monty_hall_vars, conditioning_vars, final_vars)\n",
    "print marginal.eval({distrusted:0, initial:0})\n",
    "\n",
    "# Monty Hall would never open the same door as the initial choice, so the distrusted source must be incorrect. This means Monty Hall opened one of the other two doors (equal probability). Without us knowing, the probability for where the car is remains uniform."
   ]
  },
  {
   "cell_type": "markdown",
   "metadata": {},
   "source": [
    "ADD DISCUSSION"
   ]
  },
  {
   "cell_type": "markdown",
   "metadata": {},
   "source": [
    "## Question 3: Markov Random Fields - Hamming Codes\n",
    "\n",
    "### Background:\n",
    "The Hamming $(7,4)$ code extends a 4 bit input sequence with a further 3 parity check bits to result in a 7 bit sequence to transmit. This provides redundancy that allows automatic correction of any one wrongly received bit. Figure 1 describes the coding stage of a Hamming $(7,4)$ code. "
   ]
  },
  {
   "cell_type": "markdown",
   "metadata": {
    "raw_mimetype": "text/html"
   },
   "source": [
    "![Encoder](encode.png)"
   ]
  },
  {
   "cell_type": "markdown",
   "metadata": {},
   "source": [
    "The first four bits $b_1 \\dots b_4$ represents the actual information we want to transmit. $\\phi_{c_1} \\dots \\phi_{c_3}$ are the (even) parity checkers. Bits $b_5 \\dots b_7$ are check bits to allow error correction – for a given $b_1\\dots b_4$ we choose them to result in an even total parity for all the bits connected to a common $\\phi_{c_i}$. For example, inputs $0111$ are transmitted as $0111010$. As an aside, note that if we should implement $\\phi_{c_i}$, as potentials as we do for the decoding stage below, we can also unambiguously obtain $b_5 \\dots b_7$ by finding its joint distribution given the observed $b_1 \\dots b_4$."
   ]
  },
  {
   "cell_type": "markdown",
   "metadata": {},
   "source": [
    "![Decoder](decode.png)"
   ]
  },
  {
   "cell_type": "markdown",
   "metadata": {},
   "source": [
    "Figure 2 is a factor graph describing the decoding process.  The sequence $r_1 \\dots r_7$ describes the received\n",
    "bits/signal values.  The variables $b_1 \\dots b_7$ are the decoded binary bit sequence.  We can consider two cases:\n",
    "\n",
    "- Hard decision: $r_1 \\dots r_7$ are already binarised:  In this case the factors/potentials $\\phi_{r_i}$ simply describe how likely it is that the received $r_i$ matches the transmitted $b_i$, i.e.  a discrete table giving\n",
    "potentials for the four allocations of the variables $(r_i; b_i)$.\n",
    "- Soft decision: $r_1 \\dots r_7$ are the actual continuous pre-binarised received values:  In this case the\n",
    "factors/potentials $\\phi_{r_i}$ can be two (continuous) Gaussian pdfs for $r_i$ conditioned on whether the\n",
    "transmitted value ($b_i$) was a zero or one.  The Gaussian means can be 0 and 1, while the standard\n",
    "deviation for both cases can be set at 0.25.\n",
    "\n",
    "The parity check factors/potentials $\\phi_{c_i}$ takes on values zero or one based on whether its four inputs has\n",
    "uneven or even parity."
   ]
  },
  {
   "cell_type": "markdown",
   "metadata": {},
   "source": [
    "*The transmitted data:* Use the coding stage to determine the 7-bit transmitted sequence for any given 4-bit\n",
    "input sequence."
   ]
  },
  {
   "cell_type": "code",
   "execution_count": null,
   "metadata": {
    "collapsed": false
   },
   "outputs": [],
   "source": [
    "# Insert code, as well as code to demonstrate your inference is working for all input cases."
   ]
  },
  {
   "cell_type": "markdown",
   "metadata": {},
   "source": [
    "*Hard decision decoding:* Form the received sequence $r_1 \\dots r_7$ by either retaining or changing the transmitted bits according to the distribution specified by $\\phi_{r_i}$. Then apply this observed\n",
    "bit sequence to the factor graph of Figure 2 and calculate the joint for $b_1 \\dots b_7$. The maximal value of this joint gives the optimal decoded sequence. You should be able to verify that up to one bit error in $r_i$ can be corrected by this network."
   ]
  },
  {
   "cell_type": "code",
   "execution_count": null,
   "metadata": {
    "collapsed": false
   },
   "outputs": [],
   "source": [
    "# Insert code, as well as code to demonstrate your inference is working, analyzing for the rate of correct corrections \n",
    "# given number of errors in the received bits."
   ]
  },
  {
   "cell_type": "markdown",
   "metadata": {},
   "source": [
    "*Soft decision decoding:* Determine the received sequence $r_1 \\dots r_7$ by adding zero mean noise to the transmitted sequence. Theoretically the standard deviation specified in $r_i$ governs the spread of the noise,\n",
    "but you may also want to explicitly manipulate the values of the received sequence.  A simple direct\n",
    "system will (sub-optimally) classify these $r_i$ according to whether it is closer to zero or one. Apply these $r_i$ observations to the system of Figure 2 and once again find the joint for $b_1 \\dots b_7$. Once\n",
    "again the maximal value of this joint gives the optimal decoded sequence.  Verify that this soft decision version is at least as accurate as the hard decision version and, dependent on the severity of the\n",
    "deviations in $r_i$, can in some cases correct even more than 1 erroneous bit.\n",
    "\n",
    "When implementing the soft decision decoder, you will soon discover that $r_i$ now is our first encounter with  a  potential  that  also  includes  continuous  variables  and  therefore  does  not  fit  the  mold  of  the potentials you used so far. The easiest (and recommended) fix avoids solving the handling of continuous variables.   Conceptually each $r_i$ is a function of both the discrete $b_i$ and the continuous $r_i$.  After observing $r_i$ this joint distribution reduces to being a potential function/distribution of $b_i$ only (which naturally\n",
    "fits in with the other discrete factors in the system).  The probabilities in this distribution varies\n",
    "continuously with the observed value of $r_i$, in contrast with the hard decision case where these\n",
    "probabilities remain fixed. NOTE: This approach allows a discrete PGM to be used in many situations also involving continuous quantities.  Quite often one also makes use of machine learning techniques (such as logistic regression) to reduce these continuous quantities to the probabilities of discrete events.\n",
    "\n",
    "Implement the decoding system using Theano and based on the observed $r_1 \\dots r_7$, find the joint distribution of the decoded $b_1 \\dots b_7$. Use this to determine the most likely decoding, and compare with the original transmitted sequence."
   ]
  },
  {
   "cell_type": "code",
   "execution_count": null,
   "metadata": {
    "collapsed": false
   },
   "outputs": [],
   "source": [
    "# Insert code, as well as code to demonstrate your inference is working for various cases, \n",
    "# analyzing for the rate of correct corrections given the original bits, and their noisy received versions and\n",
    "# the number of errors if we were to hard classify the bits individually using a threshold b_n>=0.5"
   ]
  },
  {
   "cell_type": "code",
   "execution_count": null,
   "metadata": {
    "collapsed": true
   },
   "outputs": [],
   "source": []
  }
 ],
 "metadata": {
  "kernelspec": {
   "display_name": "Python 2",
   "language": "python",
   "name": "python2"
  },
  "language_info": {
   "codemirror_mode": {
    "name": "ipython",
    "version": 2
   },
   "file_extension": ".py",
   "mimetype": "text/x-python",
   "name": "python",
   "nbconvert_exporter": "python",
   "pygments_lexer": "ipython2",
   "version": "2.7.10"
  }
 },
 "nbformat": 4,
 "nbformat_minor": 0
}
